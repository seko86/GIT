{
  "nbformat": 4,
  "nbformat_minor": 0,
  "metadata": {
    "colab": {
      "name": "001-010_exercises.ipynb",
      "provenance": [],
      "collapsed_sections": [],
      "include_colab_link": true
    },
    "kernelspec": {
      "name": "python3",
      "display_name": "Python 3"
    }
  },
  "cells": [
    {
      "cell_type": "markdown",
      "metadata": {
        "id": "view-in-github",
        "colab_type": "text"
      },
      "source": [
        "<a href=\"https://colab.research.google.com/github/seko86/GIT/blob/master/001_010_exercises.ipynb\" target=\"_parent\"><img src=\"https://colab.research.google.com/assets/colab-badge.svg\" alt=\"Open In Colab\"/></a>"
      ]
    },
    {
      "cell_type": "markdown",
      "metadata": {
        "id": "WLEgCW5F1hho",
        "colab_type": "text"
      },
      "source": [
        "## Numpy\n",
        "\n",
        "### Spis treści:\n",
        "* [Import biblioteki](#0)\n",
        "* [Ćwiczenie 1](#1)\n",
        "* [Ćwiczenie 2](#2)\n",
        "* [Ćwiczenie 3](#3)\n",
        "* [Ćwiczenie 4](#4)\n",
        "* [Ćwiczenie 5](#5)\n",
        "* [Ćwiczenie 6](#6)\n",
        "* [Ćwiczenie 7](#7)\n",
        "* [Ćwiczenie 8](#8)\n",
        "* [Ćwiczenie 9](#9)\n",
        "* [Ćwiczenie 10](#10)"
      ]
    },
    {
      "cell_type": "markdown",
      "metadata": {
        "id": "zeLOLmTj1kBM",
        "colab_type": "text"
      },
      "source": [
        "### <a name='0'></a>Import biblioteki"
      ]
    },
    {
      "cell_type": "code",
      "metadata": {
        "id": "HXMB7SMe1Wnz",
        "colab_type": "code",
        "colab": {
          "base_uri": "https://localhost:8080/",
          "height": 34
        },
        "outputId": "970e1a2f-4f41-4bb6-bb7e-03d668f7efb4"
      },
      "source": [
        "import numpy as np\n",
        "\n",
        "np.__version__"
      ],
      "execution_count": 1,
      "outputs": [
        {
          "output_type": "execute_result",
          "data": {
            "text/plain": [
              "'1.18.4'"
            ]
          },
          "metadata": {
            "tags": []
          },
          "execution_count": 1
        }
      ]
    },
    {
      "cell_type": "markdown",
      "metadata": {
        "id": "cyc70pMe1oCg",
        "colab_type": "text"
      },
      "source": [
        "### <a name='1'></a> Ćwiczenie 1\n",
        "Sprawdź czy wszystkie elementy tablic $A, B, C$ oraz $D$ zwracają wartość logiczną _True_.\n",
        "\n",
        "\n",
        "\n",
        "```\n",
        "A = np.array([[3, 2, 1, 4],\n",
        "              [5, 2, 1, 6]])\n",
        "\n",
        "B = np.array([[3, 2, 1, 4],\n",
        "              [5, 2, 0, 6]])\n",
        "\n",
        "C = np.array([[True, False, False],\n",
        "              [True, True, True]])\n",
        "\n",
        "D = np.array([0.1, 0.3])\n",
        "```\n",
        "\n",
        "\n",
        "\n",
        "__Wskazówka:__ Użyj funkcji _np.all()._"
      ]
    },
    {
      "cell_type": "code",
      "metadata": {
        "id": "IF1NmNBs1mxS",
        "colab_type": "code",
        "colab": {
          "base_uri": "https://localhost:8080/",
          "height": 51
        },
        "outputId": "dacdfb2b-c8a6-4ac5-b074-1d8a9058aa1d"
      },
      "source": [
        "A = np.array([[3, 2, 1, 4],\n",
        "              [5, 2, 1, 6]])\n",
        "print(A)"
      ],
      "execution_count": 5,
      "outputs": [
        {
          "output_type": "stream",
          "text": [
            "[[3 2 1 4]\n",
            " [5 2 1 6]]\n"
          ],
          "name": "stdout"
        }
      ]
    },
    {
      "cell_type": "code",
      "metadata": {
        "id": "v7cIGBVDxEkW",
        "colab_type": "code",
        "colab": {
          "base_uri": "https://localhost:8080/",
          "height": 34
        },
        "outputId": "90420b04-6d73-409e-9f73-708b8720800a"
      },
      "source": [
        "np.all(A)"
      ],
      "execution_count": 6,
      "outputs": [
        {
          "output_type": "execute_result",
          "data": {
            "text/plain": [
              "True"
            ]
          },
          "metadata": {
            "tags": []
          },
          "execution_count": 6
        }
      ]
    },
    {
      "cell_type": "code",
      "metadata": {
        "id": "UF5hzvRmxS78",
        "colab_type": "code",
        "colab": {
          "base_uri": "https://localhost:8080/",
          "height": 51
        },
        "outputId": "f61ad681-7efb-4ec7-e157-5e7c54667736"
      },
      "source": [
        "B = np.array([[3, 2, 1, 4],\n",
        "              [5, 2, 0, 6]])\n",
        "print(B)"
      ],
      "execution_count": 10,
      "outputs": [
        {
          "output_type": "stream",
          "text": [
            "[[3 2 1 4]\n",
            " [5 2 0 6]]\n"
          ],
          "name": "stdout"
        }
      ]
    },
    {
      "cell_type": "code",
      "metadata": {
        "id": "n9NwYCWjxmV3",
        "colab_type": "code",
        "colab": {
          "base_uri": "https://localhost:8080/",
          "height": 34
        },
        "outputId": "1892268b-3bee-4fd8-f393-271554354e6f"
      },
      "source": [
        "np.all(B)"
      ],
      "execution_count": 11,
      "outputs": [
        {
          "output_type": "execute_result",
          "data": {
            "text/plain": [
              "False"
            ]
          },
          "metadata": {
            "tags": []
          },
          "execution_count": 11
        }
      ]
    },
    {
      "cell_type": "code",
      "metadata": {
        "id": "26__gWMUxpAg",
        "colab_type": "code",
        "colab": {
          "base_uri": "https://localhost:8080/",
          "height": 51
        },
        "outputId": "cdb9db77-7351-4e92-dc14-55b9965354ac"
      },
      "source": [
        "C = np.array([[True, False, False],\n",
        "              [True, True, True]])\n",
        "print(C)"
      ],
      "execution_count": 12,
      "outputs": [
        {
          "output_type": "stream",
          "text": [
            "[[ True False False]\n",
            " [ True  True  True]]\n"
          ],
          "name": "stdout"
        }
      ]
    },
    {
      "cell_type": "code",
      "metadata": {
        "id": "tl5bLWflxuG8",
        "colab_type": "code",
        "colab": {
          "base_uri": "https://localhost:8080/",
          "height": 34
        },
        "outputId": "645ec806-b1f5-4ea6-9fd7-15f71d4e0f92"
      },
      "source": [
        "np.all(C)"
      ],
      "execution_count": 13,
      "outputs": [
        {
          "output_type": "execute_result",
          "data": {
            "text/plain": [
              "False"
            ]
          },
          "metadata": {
            "tags": []
          },
          "execution_count": 13
        }
      ]
    },
    {
      "cell_type": "code",
      "metadata": {
        "id": "1mGExVnsxyTq",
        "colab_type": "code",
        "colab": {
          "base_uri": "https://localhost:8080/",
          "height": 34
        },
        "outputId": "c795aa52-8675-4797-e017-d004c8d8a3cf"
      },
      "source": [
        "D = np.array([0.1, 0.3])\n",
        "print(D)"
      ],
      "execution_count": 14,
      "outputs": [
        {
          "output_type": "stream",
          "text": [
            "[0.1 0.3]\n"
          ],
          "name": "stdout"
        }
      ]
    },
    {
      "cell_type": "code",
      "metadata": {
        "id": "PaOGIe3_x0Vz",
        "colab_type": "code",
        "colab": {
          "base_uri": "https://localhost:8080/",
          "height": 34
        },
        "outputId": "fc642975-d3b7-4bde-d744-7fe8d3d77e50"
      },
      "source": [
        "np.all(D)"
      ],
      "execution_count": 15,
      "outputs": [
        {
          "output_type": "execute_result",
          "data": {
            "text/plain": [
              "True"
            ]
          },
          "metadata": {
            "tags": []
          },
          "execution_count": 15
        }
      ]
    },
    {
      "cell_type": "markdown",
      "metadata": {
        "id": "J9pY1rtr1sC0",
        "colab_type": "text"
      },
      "source": [
        "### <a name='2'></a> Ćwiczenie 2\n",
        "Sprawdź czy wszystkie elementy tablic $A, B$ oraz $C$ zwracają wartość logiczną _True_ wzdłuż osi z indeksem 1.\n",
        "\n",
        "\n",
        "```\n",
        "A = np.array([[3, 2, 1, 4],\n",
        "              [5, 2, 1, 6]])\n",
        "\n",
        "B = np.array([[3, 2, 1, 4],\n",
        "              [5, 2, 0, 6]])\n",
        "\n",
        "C = np.array([[True, False, False],\n",
        "              [True, True, True]])\n",
        "```\n",
        "\n",
        "\n",
        "\n",
        "__Wskazówka:__ Użyj funkcji _np.all()_ z parametrem _axis._"
      ]
    },
    {
      "cell_type": "code",
      "metadata": {
        "id": "zpTYzL-O1qxq",
        "colab_type": "code",
        "colab": {}
      },
      "source": [
        "# tutaj wpisz rozwiązanie"
      ],
      "execution_count": 0,
      "outputs": []
    },
    {
      "cell_type": "markdown",
      "metadata": {
        "id": "XQLYT2m11wVG",
        "colab_type": "text"
      },
      "source": [
        "### <a name='3'></a> Ćwiczenie 3\n",
        "Sprawdź czy jakikolwiek element tablic $A, B, C$ oraz $D$ odpowiednio, zwraca wartość logiczną _True_.\n",
        "\n",
        "\n",
        "```\n",
        "A = np.array([[0, 0, 0],\n",
        "              [0, 0, 0]])\n",
        "\n",
        "B = np.array([[0, 0, 0],\n",
        "              [0, 1, 0]])\n",
        "\n",
        "C = np.array([[False, False, False],\n",
        "              [True, False, False]])\n",
        "\n",
        "D = np.array([[0.1, 0.0]])\n",
        "```\n",
        "\n",
        "\n",
        "__Wskazówka:__ Użyj funkcji _np.any()._"
      ]
    },
    {
      "cell_type": "code",
      "metadata": {
        "id": "8ZdasxYF1u8f",
        "colab_type": "code",
        "colab": {}
      },
      "source": [
        "# tutaj wpisz rozwiązanie"
      ],
      "execution_count": 0,
      "outputs": []
    },
    {
      "cell_type": "markdown",
      "metadata": {
        "id": "4xTKSUzg10MK",
        "colab_type": "text"
      },
      "source": [
        "### <a name='4'></a> Ćwiczenie 4\n",
        "Sprawdź czy jakikolwiek element tablic $A, B, C$ oraz $D$ odpowiednio, zwraca wartość logiczną _True_ wzdłuż osi z indeksem 0.\n",
        "\n",
        "\n",
        "```\n",
        "A = np.array([[0, 0, 0],\n",
        "              [0, 0, 0]])\n",
        "\n",
        "B = np.array([[0, 0, 0],\n",
        "              [0, 1, 0]])\n",
        "\n",
        "C = np.array([[False, False, False],\n",
        "              [True, False, False]])\n",
        "\n",
        "D = np.array([[0.1, 0.0]])\n",
        "```\n",
        "\n",
        "\n",
        "\n",
        "__Wskazówka:__ Użyj funkcji _np.any()_ z parametrem _axis._"
      ]
    },
    {
      "cell_type": "code",
      "metadata": {
        "id": "XdfedHWm1ynE",
        "colab_type": "code",
        "colab": {}
      },
      "source": [
        "# tutaj wpisz rozwiązanie"
      ],
      "execution_count": 0,
      "outputs": []
    },
    {
      "cell_type": "markdown",
      "metadata": {
        "id": "o3HKIKlP15Ro",
        "colab_type": "text"
      },
      "source": [
        "### <a name='5'></a> Ćwiczenie 5\n",
        "Sprawdź tablicę $A$ pod kątem braków danych (_np.nan_).\n",
        "\n",
        "\n",
        "```\n",
        "A = np.array([[3, 2, 1, np.nan],\n",
        "              [5, np.nan, 1, 6]])\n",
        "```\n",
        "\n",
        "\n",
        "__Wskazówka:__ Użyj funkcji _np.isnan()_."
      ]
    },
    {
      "cell_type": "code",
      "metadata": {
        "id": "pjKDpdCy12cg",
        "colab_type": "code",
        "colab": {}
      },
      "source": [
        "# tutaj wpisz rozwiązanie"
      ],
      "execution_count": 0,
      "outputs": []
    },
    {
      "cell_type": "markdown",
      "metadata": {
        "id": "PunXd_Ey16so",
        "colab_type": "text"
      },
      "source": [
        "### <a name='6'></a> Ćwiczenie 6\n",
        "Sprawdź, czy poniższe tablice $A$ oraz $B$ są równe pod względem elementów (element-wise) z ustalonym poziomem tolerancji. Użyj funkcji _np.allclose()_ z domyślnymi parametrami.\n",
        " \n",
        "\n",
        "\n",
        "```\n",
        "A = np.array([0.4, 0.5, 0.3])\n",
        "B = np.array([0.39999999, 0.5000001, 0.3])\n",
        "```\n"
      ]
    },
    {
      "cell_type": "code",
      "metadata": {
        "id": "gJTx2KhF175d",
        "colab_type": "code",
        "colab": {}
      },
      "source": [
        "# tutaj wpisz rozwiązanie"
      ],
      "execution_count": 0,
      "outputs": []
    },
    {
      "cell_type": "markdown",
      "metadata": {
        "id": "hOhqDRz618Tx",
        "colab_type": "text"
      },
      "source": [
        "### <a name='7'></a> Ćwiczenie 7\n",
        "Sprawdź, czy poniższe tablice $A$ oraz $B$ są równe pod względem elementów (element-wise). Użyj operatora porównania _==_.\n",
        "\n",
        "\n",
        "```\n",
        "A = np.array([0.4, 0.5, 0.3])\n",
        "B = np.array([0.3999999999, 0.5000000001, 0.3])\n",
        "```"
      ]
    },
    {
      "cell_type": "code",
      "metadata": {
        "id": "G4jvbzwe1-AH",
        "colab_type": "code",
        "colab": {}
      },
      "source": [
        "# tutaj wpisz rozwiązanie"
      ],
      "execution_count": 0,
      "outputs": []
    },
    {
      "cell_type": "markdown",
      "metadata": {
        "id": "TXUd_4631-gw",
        "colab_type": "text"
      },
      "source": [
        "### <a name='8'></a> Ćwiczenie 8\n",
        "Sprawdź, dla których elementów (element-wise) poniższa tablica $A$ ma większe wartości niż tablica $B$.\n",
        "\n",
        "\n",
        "```\n",
        "A = np.array([0.4, 0.5, 0.3, 0.9])\n",
        "B = np.array([0.38, 0.51, 0.3, 0.91])\n",
        "```\n",
        "\n"
      ]
    },
    {
      "cell_type": "code",
      "metadata": {
        "id": "QWK7Yr671_xV",
        "colab_type": "code",
        "colab": {}
      },
      "source": [
        "# tutaj wpisz rozwiązanie"
      ],
      "execution_count": 0,
      "outputs": []
    },
    {
      "cell_type": "markdown",
      "metadata": {
        "id": "tgI6xEn-2AQo",
        "colab_type": "text"
      },
      "source": [
        "### <a name='9'></a> Ćwiczenie 9\n",
        "Stwórz tablicę numpy wymiaru _4x4_ wypełnioną zerami. Ustal typ danych na _int_.\n",
        "\n",
        "__Oczekiwany wynik:__\n",
        "\n",
        "\n",
        "```\n",
        "array([[0, 0, 0, 0],\n",
        "       [0, 0, 0, 0],\n",
        "       [0, 0, 0, 0],\n",
        "       [0, 0, 0, 0]])\n",
        "```\n",
        "\n",
        "\n",
        "\n",
        "__Wskazówka:__ Użyj funkcji _np.zeros()_."
      ]
    },
    {
      "cell_type": "code",
      "metadata": {
        "id": "-_mfXExMOeSc",
        "colab_type": "code",
        "colab": {}
      },
      "source": [
        "# tutaj wpisz rozwiązanie"
      ],
      "execution_count": 0,
      "outputs": []
    },
    {
      "cell_type": "markdown",
      "metadata": {
        "id": "wxhpf-uq2B1I",
        "colab_type": "text"
      },
      "source": [
        "### <a name='10'></a> Ćwiczenie 10\n",
        "Stwórz tablicę numpy wymiaru _10x10_ wypełnioną liczbą 255. Ustal typ danych na _float_.\n",
        "\n",
        "__Oczekiwany wynik:__\n",
        "\n",
        "\n",
        "```\n",
        "array([[255., 255., 255., 255., 255., 255., 255., 255., 255., 255.],\n",
        "       [255., 255., 255., 255., 255., 255., 255., 255., 255., 255.],\n",
        "       [255., 255., 255., 255., 255., 255., 255., 255., 255., 255.],\n",
        "       [255., 255., 255., 255., 255., 255., 255., 255., 255., 255.],\n",
        "       [255., 255., 255., 255., 255., 255., 255., 255., 255., 255.],\n",
        "       [255., 255., 255., 255., 255., 255., 255., 255., 255., 255.],\n",
        "       [255., 255., 255., 255., 255., 255., 255., 255., 255., 255.],\n",
        "       [255., 255., 255., 255., 255., 255., 255., 255., 255., 255.],\n",
        "       [255., 255., 255., 255., 255., 255., 255., 255., 255., 255.],\n",
        "       [255., 255., 255., 255., 255., 255., 255., 255., 255., 255.]])\n",
        "```\n",
        "\n",
        "\n",
        "\n",
        "__Wskazówka:__ Użyj funkcji _np.ones()_ lub _np.full()_."
      ]
    },
    {
      "cell_type": "code",
      "metadata": {
        "id": "49lqFGT42Dji",
        "colab_type": "code",
        "colab": {}
      },
      "source": [
        "# tutaj wpisz rozwiązanie"
      ],
      "execution_count": 0,
      "outputs": []
    }
  ]
}