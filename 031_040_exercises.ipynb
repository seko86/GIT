{
  "nbformat": 4,
  "nbformat_minor": 0,
  "metadata": {
    "colab": {
      "name": "031-040_exercises.ipynb",
      "provenance": [],
      "collapsed_sections": [],
      "include_colab_link": true
    },
    "kernelspec": {
      "name": "python3",
      "display_name": "Python 3"
    }
  },
  "cells": [
    {
      "cell_type": "markdown",
      "metadata": {
        "id": "view-in-github",
        "colab_type": "text"
      },
      "source": [
        "<a href=\"https://colab.research.google.com/github/seko86/GIT/blob/master/031_040_exercises.ipynb\" target=\"_parent\"><img src=\"https://colab.research.google.com/assets/colab-badge.svg\" alt=\"Open In Colab\"/></a>"
      ]
    },
    {
      "cell_type": "markdown",
      "metadata": {
        "id": "WLEgCW5F1hho",
        "colab_type": "text"
      },
      "source": [
        "## Numpy\n",
        "\n",
        "### Spis treści:\n",
        "* [Import biblioteki](#0)\n",
        "* [Ćwiczenie 31](#1)\n",
        "* [Ćwiczenie 32](#2)\n",
        "* [Ćwiczenie 33](#3)\n",
        "* [Ćwiczenie 34](#4)\n",
        "* [Ćwiczenie 35](#5)\n",
        "* [Ćwiczenie 36](#6)\n",
        "* [Ćwiczenie 37](#7)\n",
        "* [Ćwiczenie 38](#8)\n",
        "* [Ćwiczenie 39](#9)\n",
        "* [Ćwiczenie 40](#10)"
      ]
    },
    {
      "cell_type": "markdown",
      "metadata": {
        "id": "zeLOLmTj1kBM",
        "colab_type": "text"
      },
      "source": [
        "### <a name='0'></a>Import biblioteki"
      ]
    },
    {
      "cell_type": "code",
      "metadata": {
        "id": "HXMB7SMe1Wnz",
        "colab_type": "code",
        "colab": {
          "base_uri": "https://localhost:8080/",
          "height": 34
        },
        "outputId": "2496a560-64bb-4592-efdd-c03728c42408"
      },
      "source": [
        "import numpy as np\n",
        "\n",
        "np.__version__"
      ],
      "execution_count": 1,
      "outputs": [
        {
          "output_type": "execute_result",
          "data": {
            "text/plain": [
              "'1.18.5'"
            ]
          },
          "metadata": {
            "tags": []
          },
          "execution_count": 1
        }
      ]
    },
    {
      "cell_type": "markdown",
      "metadata": {
        "id": "cyc70pMe1oCg",
        "colab_type": "text"
      },
      "source": [
        "### <a name='1'></a> Ćwiczenie 31\n",
        "Wykonaj dwa sortowania podanej poniżej tablicy $A$:\n",
        "* wierszowo (rosnąco)\n",
        "* kolumnowo (rosnąco)\n",
        "\n",
        "\n",
        "```\n",
        "A = np.array([[4.99, 3.49, 9.99],\n",
        "              [1.99, 9.99, 4.99],\n",
        "              [14.99, 2.39, 7.29]])\n",
        "```\n",
        "\n",
        "\n",
        "\n",
        "__Wskazówka:__ Użyj funkcji _np.sort()_."
      ]
    },
    {
      "cell_type": "code",
      "metadata": {
        "id": "ed-_5hm4IvnA",
        "colab_type": "code",
        "colab": {
          "base_uri": "https://localhost:8080/",
          "height": 68
        },
        "outputId": "d1943082-ab11-4329-a375-2b3dd034d964"
      },
      "source": [
        "A = np.array([[4.99, 3.49, 9.99],\n",
        "              [1.99, 9.99, 4.99],\n",
        "              [14.99, 2.39, 7.29]])\n",
        "\n",
        "np.sort(A, axis=1)"
      ],
      "execution_count": 11,
      "outputs": [
        {
          "output_type": "execute_result",
          "data": {
            "text/plain": [
              "array([[ 3.49,  4.99,  9.99],\n",
              "       [ 1.99,  4.99,  9.99],\n",
              "       [ 2.39,  7.29, 14.99]])"
            ]
          },
          "metadata": {
            "tags": []
          },
          "execution_count": 11
        }
      ]
    },
    {
      "cell_type": "code",
      "metadata": {
        "id": "NMmR1OgTvwke",
        "colab_type": "code",
        "colab": {
          "base_uri": "https://localhost:8080/",
          "height": 68
        },
        "outputId": "e0f690fc-aafa-4d5b-b266-ad56cbf522dc"
      },
      "source": [
        "np.sort(A, axis=0)"
      ],
      "execution_count": 12,
      "outputs": [
        {
          "output_type": "execute_result",
          "data": {
            "text/plain": [
              "array([[ 1.99,  2.39,  4.99],\n",
              "       [ 4.99,  3.49,  7.29],\n",
              "       [14.99,  9.99,  9.99]])"
            ]
          },
          "metadata": {
            "tags": []
          },
          "execution_count": 12
        }
      ]
    },
    {
      "cell_type": "markdown",
      "metadata": {
        "id": "J9pY1rtr1sC0",
        "colab_type": "text"
      },
      "source": [
        "### <a name='2'></a> Ćwiczenie 32\n",
        "Wytnij wszystkie elementy tablicy $A$ o wartości wyższej niż 8.\n",
        "\n",
        "\n",
        "```\n",
        "A = np.array([[4.99, 3.49, 9.99],\n",
        "              [1.99, 9.99, 4.99],\n",
        "              [14.99, 2.39, 7.29]])\n",
        "```\n",
        "\n"
      ]
    },
    {
      "cell_type": "code",
      "metadata": {
        "id": "15swBr0tMExC",
        "colab_type": "code",
        "colab": {
          "base_uri": "https://localhost:8080/",
          "height": 34
        },
        "outputId": "c2a1e4b0-8cca-45a8-c3a1-fcd91974b303"
      },
      "source": [
        "A = np.array([[4.99, 3.49, 9.99],\n",
        "              [1.99, 9.99, 4.99],\n",
        "              [14.99, 2.39, 7.29]])\n",
        "\n",
        "A[A > 8]"
      ],
      "execution_count": 16,
      "outputs": [
        {
          "output_type": "execute_result",
          "data": {
            "text/plain": [
              "array([ 9.99,  9.99, 14.99])"
            ]
          },
          "metadata": {
            "tags": []
          },
          "execution_count": 16
        }
      ]
    },
    {
      "cell_type": "markdown",
      "metadata": {
        "id": "XQLYT2m11wVG",
        "colab_type": "text"
      },
      "source": [
        "### <a name='3'></a> Ćwiczenie 33\n",
        "Podana jest poniższa tablica $A$. Zastąp elementy powyżej wartości 10 wartością stałą 10 (obcięcie wartości do 10).\n",
        "\n",
        "\n",
        "```\n",
        "A = np.array([[4.99, 3.49, 9.99],\n",
        "              [1.99, 9.99, 14.99],\n",
        "              [14.99, 2.39, 7.29]])\n",
        "```\n",
        "\n",
        "\n",
        "\n",
        "__Wskazówka:__ Użyj funkcji _np.where()_."
      ]
    },
    {
      "cell_type": "code",
      "metadata": {
        "id": "1korOkbrPXC9",
        "colab_type": "code",
        "colab": {
          "base_uri": "https://localhost:8080/",
          "height": 68
        },
        "outputId": "a2464d27-e893-4539-85fa-e6bc26fb5884"
      },
      "source": [
        "A = np.array([[4.99, 3.49, 9.99],\n",
        "              [1.99, 9.99, 14.99],\n",
        "              [14.99, 2.39, 7.29]])\n",
        "\n",
        "A[A>10] = 10\n",
        "A"
      ],
      "execution_count": 19,
      "outputs": [
        {
          "output_type": "execute_result",
          "data": {
            "text/plain": [
              "array([[ 4.99,  3.49,  9.99],\n",
              "       [ 1.99,  9.99, 10.  ],\n",
              "       [10.  ,  2.39,  7.29]])"
            ]
          },
          "metadata": {
            "tags": []
          },
          "execution_count": 19
        }
      ]
    },
    {
      "cell_type": "code",
      "metadata": {
        "id": "ieTYWIoBwilS",
        "colab_type": "code",
        "colab": {
          "base_uri": "https://localhost:8080/",
          "height": 68
        },
        "outputId": "86b53af4-2a5a-4075-83fe-f3cc12937291"
      },
      "source": [
        "np.where(A>10, 10, A)"
      ],
      "execution_count": 21,
      "outputs": [
        {
          "output_type": "execute_result",
          "data": {
            "text/plain": [
              "array([[ 4.99,  3.49,  9.99],\n",
              "       [ 1.99,  9.99, 10.  ],\n",
              "       [10.  ,  2.39,  7.29]])"
            ]
          },
          "metadata": {
            "tags": []
          },
          "execution_count": 21
        }
      ]
    },
    {
      "cell_type": "markdown",
      "metadata": {
        "id": "4xTKSUzg10MK",
        "colab_type": "text"
      },
      "source": [
        "### <a name='4'></a> Ćwiczenie 34\n",
        "Poniższą dwuwymiarową tablicę $A$ przedstaw w postaci 'wypłaszczonej' jednowymiarowej tablicy.  \n",
        "\n",
        "```\n",
        "A = np.array([[4.99, 3.49, 9.99],\n",
        "              [1.99, 9.99, 14.99],\n",
        "              [14.99, 2.39, 7.29]])\n",
        "```\n",
        "\n",
        "\n",
        "\n",
        "__Oczekiwany wynik:__\n",
        "\n",
        "\n",
        "```\n",
        "array([ 4.99,  3.49,  9.99,  1.99,  9.99, 14.99, 14.99,  2.39,  7.29])\n",
        "```\n",
        "\n",
        "__Wskazówka:__ Użyj funkcji _np.ravel()_.\n",
        "\n",
        "\n"
      ]
    },
    {
      "cell_type": "code",
      "metadata": {
        "id": "COqibgznQtj0",
        "colab_type": "code",
        "colab": {
          "base_uri": "https://localhost:8080/",
          "height": 34
        },
        "outputId": "a5d28784-6867-4c1a-df92-72bcdc208d0a"
      },
      "source": [
        "A = np.array([[4.99, 3.49, 9.99],\n",
        "              [1.99, 9.99, 14.99],\n",
        "              [14.99, 2.39, 7.29]])\n",
        "\n",
        "np.ravel(A)"
      ],
      "execution_count": 23,
      "outputs": [
        {
          "output_type": "execute_result",
          "data": {
            "text/plain": [
              "array([ 4.99,  3.49,  9.99,  1.99,  9.99, 14.99, 14.99,  2.39,  7.29])"
            ]
          },
          "metadata": {
            "tags": []
          },
          "execution_count": 23
        }
      ]
    },
    {
      "cell_type": "markdown",
      "metadata": {
        "id": "o3HKIKlP15Ro",
        "colab_type": "text"
      },
      "source": [
        "### <a name='5'></a> Ćwiczenie 35\n",
        "Zbuduj tablicę o identycznym kształcie i typie danych jak tablica $A$ oraz wypełnij ją stałą wartością 0.0.\n",
        "\n",
        "\n",
        "```\n",
        "A = np.array([[4.99, 3.49, 9.99],\n",
        "              [1.99, 9.99, 14.99],\n",
        "              [14.99, 2.39, 7.29]])\n",
        "```\n",
        "__Oczekiwany wynik:__\n",
        "\n",
        "\n",
        "```\n",
        "array([[0., 0., 0.],\n",
        "       [0., 0., 0.],\n",
        "       [0., 0., 0.]])\n",
        "```\n",
        "\n",
        "\n",
        "\n",
        "\n",
        "\n",
        "__Wskazówka:__ Użyj funkcji _np.zeros_like()_."
      ]
    },
    {
      "cell_type": "code",
      "metadata": {
        "id": "Nb5kpwa3Sh-P",
        "colab_type": "code",
        "colab": {
          "base_uri": "https://localhost:8080/",
          "height": 68
        },
        "outputId": "5d23e89e-6dc4-4ee1-d911-4874e139b81b"
      },
      "source": [
        "A = np.array([[4.99, 3.49, 9.99],\n",
        "              [1.99, 9.99, 14.99],\n",
        "              [14.99, 2.39, 7.29]])\n",
        "\n",
        "np.zeros_like(A)"
      ],
      "execution_count": 25,
      "outputs": [
        {
          "output_type": "execute_result",
          "data": {
            "text/plain": [
              "array([[0., 0., 0.],\n",
              "       [0., 0., 0.],\n",
              "       [0., 0., 0.]])"
            ]
          },
          "metadata": {
            "tags": []
          },
          "execution_count": 25
        }
      ]
    },
    {
      "cell_type": "markdown",
      "metadata": {
        "id": "PunXd_Ey16so",
        "colab_type": "text"
      },
      "source": [
        "### <a name='6'></a> Ćwiczenie 36\n",
        "\n",
        "Zbuduj tablicę o identycznym kształcie i typie danych jak tablica $A$ oraz wypełnij ją stałą wartością 9.99.\n",
        "\n",
        "\n",
        "```\n",
        "A = np.array([[4.99, 3.49, 9.99],\n",
        "              [1.99, 9.99, 14.99],\n",
        "              [14.99, 2.39, 7.29]])\n",
        "```\n",
        "\n",
        "__Oczekiwany wynik:__\n",
        "\n",
        "\n",
        "```\n",
        "array([[9.99, 9.99, 9.99],\n",
        "       [9.99, 9.99, 9.99],\n",
        "       [9.99, 9.99, 9.99]])\n",
        "```\n",
        "\n",
        "\n",
        "\n",
        "__Wskazówka:__ Użyj funkcji _np.full_like()_."
      ]
    },
    {
      "cell_type": "code",
      "metadata": {
        "id": "XigJhXuPUQ4_",
        "colab_type": "code",
        "colab": {
          "base_uri": "https://localhost:8080/",
          "height": 68
        },
        "outputId": "53c23c30-c853-4eca-fcb1-34544a3389df"
      },
      "source": [
        "np.full_like(A, 9.99)"
      ],
      "execution_count": 26,
      "outputs": [
        {
          "output_type": "execute_result",
          "data": {
            "text/plain": [
              "array([[9.99, 9.99, 9.99],\n",
              "       [9.99, 9.99, 9.99],\n",
              "       [9.99, 9.99, 9.99]])"
            ]
          },
          "metadata": {
            "tags": []
          },
          "execution_count": 26
        }
      ]
    },
    {
      "cell_type": "markdown",
      "metadata": {
        "id": "hOhqDRz618Tx",
        "colab_type": "text"
      },
      "source": [
        "### <a name='7'></a> Ćwiczenie 37\n",
        "Zbuduj tablicę dwuwymiarową (macierz kwadratową dolną trójkątną) podnaną poniżej:\n",
        "\n",
        "\n",
        "```\n",
        "array([[1., 0., 0., 0., 0.],\n",
        "       [1., 1., 0., 0., 0.],\n",
        "       [1., 1., 1., 0., 0.],\n",
        "       [1., 1., 1., 1., 0.],\n",
        "       [1., 1., 1., 1., 1.]])\n",
        "```\n",
        "__Wskazówka:__ Użyj funkcji _np.tri()_.\n"
      ]
    },
    {
      "cell_type": "code",
      "metadata": {
        "id": "0T6tBTzeVDN7",
        "colab_type": "code",
        "colab": {
          "base_uri": "https://localhost:8080/",
          "height": 102
        },
        "outputId": "0e0eb428-19fd-4180-d62c-cd717888eb04"
      },
      "source": [
        "np.tri(N=5)"
      ],
      "execution_count": 35,
      "outputs": [
        {
          "output_type": "execute_result",
          "data": {
            "text/plain": [
              "array([[1., 0., 0., 0., 0.],\n",
              "       [1., 1., 0., 0., 0.],\n",
              "       [1., 1., 1., 0., 0.],\n",
              "       [1., 1., 1., 1., 0.],\n",
              "       [1., 1., 1., 1., 1.]])"
            ]
          },
          "metadata": {
            "tags": []
          },
          "execution_count": 35
        }
      ]
    },
    {
      "cell_type": "markdown",
      "metadata": {
        "id": "TXUd_4631-gw",
        "colab_type": "text"
      },
      "source": [
        "### <a name='8'></a> Ćwiczenie 38\n",
        "Stwórz dowolną tablicę 3-wymiarową o kształcie $(2, 3, 4)$."
      ]
    },
    {
      "cell_type": "code",
      "metadata": {
        "id": "NZoI-8PeXudZ",
        "colab_type": "code",
        "colab": {
          "base_uri": "https://localhost:8080/",
          "height": 136
        },
        "outputId": "4d2cbc67-b56c-4078-e606-c02a1b90e8af"
      },
      "source": [
        "A = np.array([[[4,4,5,3],\n",
        "               [5,6,7,3],\n",
        "               [4,5,6,3]],\n",
        "\n",
        "              [[4,5,8,9],\n",
        "               [5,9,1,5],\n",
        "               [6,2,4,7]]])\n",
        "\n",
        "A"
      ],
      "execution_count": 59,
      "outputs": [
        {
          "output_type": "execute_result",
          "data": {
            "text/plain": [
              "array([[[4, 4, 5, 3],\n",
              "        [5, 6, 7, 3],\n",
              "        [4, 5, 6, 3]],\n",
              "\n",
              "       [[4, 5, 8, 9],\n",
              "        [5, 9, 1, 5],\n",
              "        [6, 2, 4, 7]]])"
            ]
          },
          "metadata": {
            "tags": []
          },
          "execution_count": 59
        }
      ]
    },
    {
      "cell_type": "markdown",
      "metadata": {
        "id": "tgI6xEn-2AQo",
        "colab_type": "text"
      },
      "source": [
        "### <a name='9'></a> Ćwiczenie 39\n",
        "\n",
        "Wygeneruj dwuwymiarową tablicę o kształcie _(200, 300)_ wypełnioną wartościami losowymi od 0 do 255 włacznie i typie danych _np.uint8_ i przypisz do zmiennej _image_."
      ]
    },
    {
      "cell_type": "code",
      "metadata": {
        "id": "4UXbFDEVZr1J",
        "colab_type": "code",
        "colab": {
          "base_uri": "https://localhost:8080/",
          "height": 136
        },
        "outputId": "febb57bf-a85c-46c8-ea5a-515f62e18078"
      },
      "source": [
        "image = np.random.randint(0, 256, size=(200,300), dtype=np.uint8)\n",
        "image"
      ],
      "execution_count": 64,
      "outputs": [
        {
          "output_type": "execute_result",
          "data": {
            "text/plain": [
              "array([[ 75, 187, 248, ..., 236,  47, 142],\n",
              "       [101, 249, 233, ..., 238, 148,  16],\n",
              "       [236, 230, 246, ...,  68,  46, 150],\n",
              "       ...,\n",
              "       [177, 195,  44, ..., 118, 144, 223],\n",
              "       [ 49,  23, 151, ...,  78, 228,  44],\n",
              "       [157, 177, 173, ..., 146,  19,  66]], dtype=uint8)"
            ]
          },
          "metadata": {
            "tags": []
          },
          "execution_count": 64
        }
      ]
    },
    {
      "cell_type": "markdown",
      "metadata": {
        "id": "nA-CIMPfbTcB",
        "colab_type": "text"
      },
      "source": [
        "Nastepnie uruchom poniższy blok kodu. W rezultacie uzyskasz podgląd na losowo wygenerowany czarno-biały obraz."
      ]
    },
    {
      "cell_type": "code",
      "metadata": {
        "id": "wga9cGARZ-3O",
        "colab_type": "code",
        "colab": {
          "base_uri": "https://localhost:8080/",
          "height": 217
        },
        "outputId": "36c58fdb-2f56-4579-e234-e7c6320c7564"
      },
      "source": [
        "from google.colab.patches import cv2_imshow\n",
        "\n",
        "cv2_imshow(image)"
      ],
      "execution_count": 65,
      "outputs": [
        {
          "output_type": "display_data",
          "data": {
            "image/png": "[encoded data removed]",
            "text/plain": [
              "<PIL.Image.Image image mode=L size=300x200 at 0x7F06D3212C50>"
            ]
          },
          "metadata": {
            "tags": []
          }
        }
      ]
    },
    {
      "cell_type": "markdown",
      "metadata": {
        "id": "wxhpf-uq2B1I",
        "colab_type": "text"
      },
      "source": [
        "### <a name='10'></a> Ćwiczenie 40\n",
        "Tablicę _image_ z poprzedniego zadania posortuj wzdłuż wiersza rosnąco. Następnie dzięki funkcji _cv2_imshow()_ wyświetl otrzymany obraz."
      ]
    },
    {
      "cell_type": "code",
      "metadata": {
        "id": "YFc0KW6URsuc",
        "colab_type": "code",
        "colab": {
          "base_uri": "https://localhost:8080/",
          "height": 217
        },
        "outputId": "f75108dc-4774-4ede-8b88-dce8d1c6f0a6"
      },
      "source": [
        "image = np.random.randint(0, 256, size=(200,300), dtype=np.uint8)\n",
        "image.sort(axis=1)\n",
        "image\n",
        "from google.colab.patches import cv2_imshow\n",
        "\n",
        "cv2_imshow(image)"
      ],
      "execution_count": 69,
      "outputs": [
        {
          "output_type": "display_data",
          "data": {
            "image/png": "[encoded data removed]",
            "text/plain": [
              "<PIL.Image.Image image mode=L size=300x200 at 0x7F06C892C5F8>"
            ]
          },
          "metadata": {
            "tags": []
          }
        }
      ]
    },
    {
      "cell_type": "markdown",
      "metadata": {
        "id": "RAU2F-3Mcgsr",
        "colab_type": "text"
      },
      "source": [
        "Tablicę _image_ z poprzedniego zadania posortuj wzdłuż kolumny rosnąco. Następnie dzięki funkcji _cv2_imshow()_ wyświetl otrzymany obraz."
      ]
    },
    {
      "cell_type": "code",
      "metadata": {
        "id": "EAvOxzhRbprl",
        "colab_type": "code",
        "colab": {
          "base_uri": "https://localhost:8080/",
          "height": 217
        },
        "outputId": "fc34d2b6-5051-4a91-a336-a5800583be86"
      },
      "source": [
        "image = np.random.randint(0, 256, size=(200,300), dtype=np.uint8)\n",
        "image.sort(axis=0)\n",
        "image\n",
        "from google.colab.patches import cv2_imshow\n",
        "\n",
        "cv2_imshow(image)"
      ],
      "execution_count": 71,
      "outputs": [
        {
          "output_type": "display_data",
          "data": {
            "image/png": "[encoded data removed]",
            "text/plain": [
              "<PIL.Image.Image image mode=L size=300x200 at 0x7F06C8926710>"
            ]
          },
          "metadata": {
            "tags": []
          }
        }
      ]
    }
  ]
}