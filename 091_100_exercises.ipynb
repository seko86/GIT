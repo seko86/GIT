{
  "nbformat": 4,
  "nbformat_minor": 0,
  "metadata": {
    "colab": {
      "name": "091-100_exercises.ipynb",
      "provenance": [],
      "collapsed_sections": [],
      "include_colab_link": true
    },
    "kernelspec": {
      "name": "python3",
      "display_name": "Python 3"
    }
  },
  "cells": [
    {
      "cell_type": "markdown",
      "metadata": {
        "id": "view-in-github",
        "colab_type": "text"
      },
      "source": [
        "<a href=\"https://colab.research.google.com/github/seko86/GIT/blob/master/091_100_exercises.ipynb\" target=\"_parent\"><img src=\"https://colab.research.google.com/assets/colab-badge.svg\" alt=\"Open In Colab\"/></a>"
      ]
    },
    {
      "cell_type": "markdown",
      "metadata": {
        "id": "WLEgCW5F1hho",
        "colab_type": "text"
      },
      "source": [
        "## Numpy\n",
        "\n",
        "### Spis treści:\n",
        "* [Import biblioteki](#0)\n",
        "* [Ćwiczenie 91](#1)\n",
        "* [Ćwiczenie 92](#2)\n",
        "* [Ćwiczenie 93](#3)\n",
        "* [Ćwiczenie 94](#4)\n",
        "* [Ćwiczenie 95](#5)\n",
        "* [Ćwiczenie 96](#6)\n",
        "* [Ćwiczenie 97](#7)\n",
        "* [Ćwiczenie 98](#8)\n",
        "* [Ćwiczenie 99](#9)\n",
        "* [Ćwiczenie 100](#10)"
      ]
    },
    {
      "cell_type": "markdown",
      "metadata": {
        "id": "zeLOLmTj1kBM",
        "colab_type": "text"
      },
      "source": [
        "### <a name='0'></a>Import biblioteki"
      ]
    },
    {
      "cell_type": "code",
      "metadata": {
        "id": "HXMB7SMe1Wnz",
        "colab_type": "code",
        "colab": {
          "base_uri": "https://localhost:8080/",
          "height": 34
        },
        "outputId": "4f406749-9df5-4faf-c2d9-2ee9dfcd351a"
      },
      "source": [
        "import numpy as np\n",
        "\n",
        "np.set_printoptions(linewidth=160, suppress=True)\n",
        "np.__version__"
      ],
      "execution_count": null,
      "outputs": [
        {
          "output_type": "execute_result",
          "data": {
            "text/plain": [
              "'1.18.5'"
            ]
          },
          "metadata": {
            "tags": []
          },
          "execution_count": 1
        }
      ]
    },
    {
      "cell_type": "markdown",
      "metadata": {
        "id": "cyc70pMe1oCg",
        "colab_type": "text"
      },
      "source": [
        "### <a name='1'></a> Ćwiczenie 91\n",
        "Podany jest poniższy string _wig_games_raw_ zawierający dane dotyczące indeksu sektorowego WIG.GAMES:\n",
        "\n",
        "```\n",
        "wig_games_raw = \"\"\"Profil\tCzas\tKurs\tZmiana\tZmiana %\tOdn.\tOtw.\tMin.\tMax.\tWolumen\tObrót\tUdział\n",
        "11B (11BIT)\t17 kwi 17:01\t391.00\t+8.00\t(+2.09%)\t383.00\t383.50\t383.00\t394.00\t12 784\t4 994 874\t19.034%\n",
        "CDR (CDPROJEKT)\t17 kwi 17:01\t339.50\t+5.30\t(+1.59%)\t334.20\t338.30\t337.00\t344.20\t233 059\t79 245 368\t39.618%\n",
        "CIG (CIGAMES)\t17 kwi 17:03\t0.742\t-0.012\t(-1.59%)\t0.754\t0.772\t0.730\t0.772\t1 311 078\t971 459\t1.855%\n",
        "PLW (PLAYWAY)\t17 kwi 17:03\t387.50\t+18.00\t(+4.87%)\t369.50\t374.00\t373.00\t388.00\t33 206\t12 661 786\t10.638%\n",
        "TEN (TSGAMES)\t17 kwi 17:02\t349.50\t+22.50\t(+6.88%)\t327.00\t332.00\t330.00\t353.50\t39 793\t13 697 060\t28.855%\"\"\"\n",
        "```\n",
        "\n",
        "Zbuduj z tych danych tablicę numpy i nazwij ją _wig_games_.\n",
        "\n",
        "__Oczekiwany wynik:__\n",
        "\n",
        "\n",
        "```\n",
        "array([['Profil', 'Czas', 'Kurs', 'Zmiana', 'Zmiana%', 'Odn.', 'Otw.', 'Min.', 'Max.', 'Wolumen', 'Obrót', 'Udział'],\n",
        "       ['11B(11BIT)', '17kwi17:01', '391.00', '+8.00', '(+2.09%)', '383.00', '383.50', '383.00', '394.00', '12784', '4994874', '19.034%'],\n",
        "       ['CDR(CDPROJEKT)', '17kwi17:01', '339.50', '+5.30', '(+1.59%)', '334.20', '338.30', '337.00', '344.20', '233059', '79245368', '39.618%'],\n",
        "       ['CIG(CIGAMES)', '17kwi17:03', '0.742', '-0.012', '(-1.59%)', '0.754', '0.772', '0.730', '0.772', '1311078', '971459', '1.855%'],\n",
        "       ['PLW(PLAYWAY)', '17kwi17:03', '387.50', '+18.00', '(+4.87%)', '369.50', '374.00', '373.00', '388.00', '33206', '12661786', '10.638%'],\n",
        "       ['TEN(TSGAMES)', '17kwi17:02', '349.50', '+22.50', '(+6.88%)', '327.00', '332.00', '330.00', '353.50', '39793', '13697060', '28.855%']], dtype='<U14')\n",
        "```\n",
        "\n",
        "\n",
        "\n",
        "\n"
      ]
    },
    {
      "cell_type": "code",
      "metadata": {
        "id": "p0S46C_Lc2GH",
        "colab_type": "code",
        "colab": {}
      },
      "source": [
        "wig_games_raw = \"\"\"Profil\tCzas\tKurs\tZmiana\tZmiana %\tOdn.\tOtw.\tMin.\tMax.\tWolumen\tObrót\tUdział\n",
        "11B (11BIT)\t17 kwi 17:01\t391.00\t+8.00\t(+2.09%)\t383.00\t383.50\t383.00\t394.00\t12 784\t4 994 874\t19.034%\n",
        "CDR (CDPROJEKT)\t17 kwi 17:01\t339.50\t+5.30\t(+1.59%)\t334.20\t338.30\t337.00\t344.20\t233 059\t79 245 368\t39.618%\n",
        "CIG (CIGAMES)\t17 kwi 17:03\t0.742\t-0.012\t(-1.59%)\t0.754\t0.772\t0.730\t0.772\t1 311 078\t971 459\t1.855%\n",
        "PLW (PLAYWAY)\t17 kwi 17:03\t387.50\t+18.00\t(+4.87%)\t369.50\t374.00\t373.00\t388.00\t33 206\t12 661 786\t10.638%\n",
        "TEN (TSGAMES)\t17 kwi 17:02\t349.50\t+22.50\t(+6.88%)\t327.00\t332.00\t330.00\t353.50\t39 793\t13 697 060\t28.855%\"\"\""
      ],
      "execution_count": null,
      "outputs": []
    },
    {
      "cell_type": "code",
      "metadata": {
        "id": "MNYRrgQwZr_n",
        "colab_type": "code",
        "colab": {
          "base_uri": "https://localhost:8080/",
          "height": 119
        },
        "outputId": "b7d4e543-dfad-456e-f6dd-87d11573ac5c"
      },
      "source": [
        "wig_games = wig_games_raw.splitlines()\n",
        "wig_games = [x.replace(' ', '') for x in wig_games]\n",
        "wig_games = [x.split('\\t') for x in wig_games]\n",
        "wig_games =np.array(wig_games, dtype=np.str)\n",
        "wig_games"
      ],
      "execution_count": null,
      "outputs": [
        {
          "output_type": "execute_result",
          "data": {
            "text/plain": [
              "array([['Profil', 'Czas', 'Kurs', 'Zmiana', 'Zmiana%', 'Odn.', 'Otw.', 'Min.', 'Max.', 'Wolumen', 'Obrót', 'Udział'],\n",
              "       ['11B(11BIT)', '17kwi17:01', '391.00', '+8.00', '(+2.09%)', '383.00', '383.50', '383.00', '394.00', '12784', '4994874', '19.034%'],\n",
              "       ['CDR(CDPROJEKT)', '17kwi17:01', '339.50', '+5.30', '(+1.59%)', '334.20', '338.30', '337.00', '344.20', '233059', '79245368', '39.618%'],\n",
              "       ['CIG(CIGAMES)', '17kwi17:03', '0.742', '-0.012', '(-1.59%)', '0.754', '0.772', '0.730', '0.772', '1311078', '971459', '1.855%'],\n",
              "       ['PLW(PLAYWAY)', '17kwi17:03', '387.50', '+18.00', '(+4.87%)', '369.50', '374.00', '373.00', '388.00', '33206', '12661786', '10.638%'],\n",
              "       ['TEN(TSGAMES)', '17kwi17:02', '349.50', '+22.50', '(+6.88%)', '327.00', '332.00', '330.00', '353.50', '39793', '13697060', '28.855%']], dtype='<U14')"
            ]
          },
          "metadata": {
            "tags": []
          },
          "execution_count": 32
        }
      ]
    },
    {
      "cell_type": "markdown",
      "metadata": {
        "id": "J9pY1rtr1sC0",
        "colab_type": "text"
      },
      "source": [
        "### <a name='2'></a> Ćwiczenie 92\n",
        "Z tablicy _wig_games_ z poprzedniego ćwiczenia usuń kolumny:\n",
        "* Zmiana\n",
        "* Zmiana %\n",
        "* Odn.\n",
        "* Wolumen\n",
        "\n",
        "__Oczekiwany wynik:__\n",
        "\n",
        "\n",
        "```\n",
        "array([['Profil', 'Czas', 'Kurs', 'Otw.', 'Min.', 'Max.', 'Obrót', 'Udział'],\n",
        "       ['11B (11BIT)', '17 kwi 17:01', '391.00', '383.50', '383.00', '394.00', '4 994 874', '19.034%'],\n",
        "       ['CDR (CDPROJEKT)', '17 kwi 17:01', '339.50', '338.30', '337.00', '344.20', '79 245 368', '39.618%'],\n",
        "       ['CIG (CIGAMES)', '17 kwi 17:03', '0.742', '0.772', '0.730', '0.772', '971 459', '1.855%'],\n",
        "       ['PLW (PLAYWAY)', '17 kwi 17:03', '387.50', '374.00', '373.00', '388.00', '12 661 786', '10.638%'],\n",
        "       ['TEN (TSGAMES)', '17 kwi 17:02', '349.50', '332.00', '330.00', '353.50', '13 697 060', '28.855%']], dtype='<U15')\n",
        "```\n",
        "\n"
      ]
    },
    {
      "cell_type": "code",
      "metadata": {
        "id": "0iG7wIXvdrGn",
        "colab_type": "code",
        "colab": {
          "base_uri": "https://localhost:8080/",
          "height": 119
        },
        "outputId": "8688b429-9b35-4fa6-a64c-9a13ff21d006"
      },
      "source": [
        "#wig_games[:,[0,1,2,6,7,8,10,11]]\n",
        "wig_games = np.delete(wig_games, [3,4,5,9], axis=1)\n",
        "wig_games"
      ],
      "execution_count": null,
      "outputs": [
        {
          "output_type": "execute_result",
          "data": {
            "text/plain": [
              "array([['Profil', 'Czas', 'Kurs', 'Otw.', 'Min.', 'Max.', 'Obrót', 'Udział'],\n",
              "       ['11B(11BIT)', '17kwi17:01', '391.00', '383.50', '383.00', '394.00', '4994874', '19.034%'],\n",
              "       ['CDR(CDPROJEKT)', '17kwi17:01', '339.50', '338.30', '337.00', '344.20', '79245368', '39.618%'],\n",
              "       ['CIG(CIGAMES)', '17kwi17:03', '0.742', '0.772', '0.730', '0.772', '971459', '1.855%'],\n",
              "       ['PLW(PLAYWAY)', '17kwi17:03', '387.50', '374.00', '373.00', '388.00', '12661786', '10.638%'],\n",
              "       ['TEN(TSGAMES)', '17kwi17:02', '349.50', '332.00', '330.00', '353.50', '13697060', '28.855%']], dtype='<U14')"
            ]
          },
          "metadata": {
            "tags": []
          },
          "execution_count": 40
        }
      ]
    },
    {
      "cell_type": "markdown",
      "metadata": {
        "id": "XQLYT2m11wVG",
        "colab_type": "text"
      },
      "source": [
        "### <a name='3'></a> Ćwiczenie 93\n",
        "Tablicę z poprzedniego ćwiczenia _wig_games_ zapisz do pliku _wig_games.csv_."
      ]
    },
    {
      "cell_type": "code",
      "metadata": {
        "id": "ZC0aA_OxeXrv",
        "colab_type": "code",
        "colab": {}
      },
      "source": [
        "np.savetxt('wig_games.csv', wig_games, fmt='%s',  delimiter=',')"
      ],
      "execution_count": null,
      "outputs": []
    },
    {
      "cell_type": "markdown",
      "metadata": {
        "id": "--t_pcFpJTU9",
        "colab_type": "text"
      },
      "source": [
        "Uruchom poniższą komórkę w celu sprawdzenia."
      ]
    },
    {
      "cell_type": "code",
      "metadata": {
        "id": "QBWqXA_ns7CR",
        "colab_type": "code",
        "colab": {
          "base_uri": "https://localhost:8080/",
          "height": 119
        },
        "outputId": "e82b1354-211e-47ed-c643-993b04ddc773"
      },
      "source": [
        "!head wig_games.csv"
      ],
      "execution_count": null,
      "outputs": [
        {
          "output_type": "stream",
          "text": [
            "Profil,Czas,Kurs,Otw.,Min.,Max.,Obrót,Udział\n",
            "11B(11BIT),17kwi17:01,391.00,383.50,383.00,394.00,4994874,19.034%\n",
            "CDR(CDPROJEKT),17kwi17:01,339.50,338.30,337.00,344.20,79245368,39.618%\n",
            "CIG(CIGAMES),17kwi17:03,0.742,0.772,0.730,0.772,971459,1.855%\n",
            "PLW(PLAYWAY),17kwi17:03,387.50,374.00,373.00,388.00,12661786,10.638%\n",
            "TEN(TSGAMES),17kwi17:02,349.50,332.00,330.00,353.50,13697060,28.855%\n"
          ],
          "name": "stdout"
        }
      ]
    },
    {
      "cell_type": "markdown",
      "metadata": {
        "id": "4xTKSUzg10MK",
        "colab_type": "text"
      },
      "source": [
        "### <a name='4'></a> Ćwiczenie 94\n",
        "Wczytaj do zmiennej _wig_games_new_ zawartość pliku _wig_games.csv_."
      ]
    },
    {
      "cell_type": "code",
      "metadata": {
        "id": "YqkrgA6Tgjcx",
        "colab_type": "code",
        "colab": {
          "base_uri": "https://localhost:8080/",
          "height": 119
        },
        "outputId": "e8c4d6a1-55a8-4105-bbe9-50cbd44b4e7e"
      },
      "source": [
        "wig_games_new = np.loadtxt('wig_games_csv', dtype=str , delimiter=',')\n",
        "wig_games_new"
      ],
      "execution_count": null,
      "outputs": [
        {
          "output_type": "execute_result",
          "data": {
            "text/plain": [
              "array([['Profil', 'Czas', 'Kurs', 'Otw.', 'Min.', 'Max.', 'Obrót', 'Udział'],\n",
              "       ['11B(11BIT)', '17kwi17:01', '391.00', '383.50', '383.00', '394.00', '4994874', '19.034%'],\n",
              "       ['CDR(CDPROJEKT)', '17kwi17:01', '339.50', '338.30', '337.00', '344.20', '79245368', '39.618%'],\n",
              "       ['CIG(CIGAMES)', '17kwi17:03', '0.742', '0.772', '0.730', '0.772', '971459', '1.855%'],\n",
              "       ['PLW(PLAYWAY)', '17kwi17:03', '387.50', '374.00', '373.00', '388.00', '12661786', '10.638%'],\n",
              "       ['TEN(TSGAMES)', '17kwi17:02', '349.50', '332.00', '330.00', '353.50', '13697060', '28.855%']], dtype='<U14')"
            ]
          },
          "metadata": {
            "tags": []
          },
          "execution_count": 54
        }
      ]
    },
    {
      "cell_type": "markdown",
      "metadata": {
        "id": "o3HKIKlP15Ro",
        "colab_type": "text"
      },
      "source": [
        "### <a name='5'></a> Ćwiczenie 95\n",
        "Podany jest poniższy string _playway_raw_ zawierający notowania spółki Playway z marca 2020. \n",
        "\n",
        "\n",
        "\n",
        "```\n",
        "playway_raw = \"\"\"Data,Otwarcie,Najwyzszy,Najnizszy,Zamkniecie,Wolumen\n",
        "2020-03-02,305,324.5,283.5,310,64081\n",
        "2020-03-03,325.5,340.5,320,340.5,55496\n",
        "2020-03-04,324,340.5,315,330,36152\n",
        "2020-03-05,344,344,310,315,35992\n",
        "2020-03-06,306.5,307,291,305,32539\n",
        "2020-03-09,274,291,250,258,79402\n",
        "2020-03-10,278,284.5,256,264,35700\n",
        "2020-03-11,270,270,238.5,245,60445\n",
        "2020-03-12,218,228,196,197,94031\n",
        "2020-03-13,210,229,198.8,211,100412\n",
        "2020-03-16,205,248,197.8,240.5,50659\n",
        "2020-03-17,245,269,232.5,264,99480\n",
        "2020-03-18,264,280,251,270,70136\n",
        "2020-03-19,267,280,267,279.5,30732\n",
        "2020-03-20,297.5,307,280,280.5,43426\n",
        "2020-03-23,274,289,258,285,37098\n",
        "2020-03-24,305,309,296.5,309,31939\n",
        "2020-03-25,313,330,295,304,46724\n",
        "2020-03-26,300,309,295.5,300,27213\n",
        "2020-03-27,302,306.5,290,296,13466\n",
        "2020-03-30,299,300,287,300,10316\n",
        "2020-03-31,302.5,309,302,306.5,15698\"\"\"\n",
        "```\n",
        "\n",
        "Utwórz tablicę o nazwie _playway_ i przypisz do niej poniższe dane."
      ]
    },
    {
      "cell_type": "code",
      "metadata": {
        "id": "WJNvgoNDlumI",
        "colab_type": "code",
        "colab": {
          "base_uri": "https://localhost:8080/",
          "height": 408
        },
        "outputId": "349a7ec4-1513-4f3f-a7e9-124a95c78765"
      },
      "source": [
        "playway_raw = \"\"\"Data,Otwarcie,Najwyzszy,Najnizszy,Zamkniecie,Wolumen\n",
        "2020-03-02,305,324.5,283.5,310,64081\n",
        "2020-03-03,325.5,340.5,320,340.5,55496\n",
        "2020-03-04,324,340.5,315,330,36152\n",
        "2020-03-05,344,344,310,315,35992\n",
        "2020-03-06,306.5,307,291,305,32539\n",
        "2020-03-09,274,291,250,258,79402\n",
        "2020-03-10,278,284.5,256,264,35700\n",
        "2020-03-11,270,270,238.5,245,60445\n",
        "2020-03-12,218,228,196,197,94031\n",
        "2020-03-13,210,229,198.8,211,100412\n",
        "2020-03-16,205,248,197.8,240.5,50659\n",
        "2020-03-17,245,269,232.5,264,99480\n",
        "2020-03-18,264,280,251,270,70136\n",
        "2020-03-19,267,280,267,279.5,30732\n",
        "2020-03-20,297.5,307,280,280.5,43426\n",
        "2020-03-23,274,289,258,285,37098\n",
        "2020-03-24,305,309,296.5,309,31939\n",
        "2020-03-25,313,330,295,304,46724\n",
        "2020-03-26,300,309,295.5,300,27213\n",
        "2020-03-27,302,306.5,290,296,13466\n",
        "2020-03-30,299,300,287,300,10316\n",
        "2020-03-31,302.5,309,302,306.5,15698\"\"\"\n",
        "\n",
        "lines = playway_raw.splitlines()\n",
        "lines = [x.split(',') for x in lines]\n",
        "lines = np.array(lines, dtype=np.str)\n",
        "lines"
      ],
      "execution_count": 186,
      "outputs": [
        {
          "output_type": "execute_result",
          "data": {
            "text/plain": [
              "array([['Data', 'Otwarcie', 'Najwyzszy', 'Najnizszy', 'Zamkniecie', 'Wolumen'],\n",
              "       ['2020-03-02', '305', '324.5', '283.5', '310', '64081'],\n",
              "       ['2020-03-03', '325.5', '340.5', '320', '340.5', '55496'],\n",
              "       ['2020-03-04', '324', '340.5', '315', '330', '36152'],\n",
              "       ['2020-03-05', '344', '344', '310', '315', '35992'],\n",
              "       ['2020-03-06', '306.5', '307', '291', '305', '32539'],\n",
              "       ['2020-03-09', '274', '291', '250', '258', '79402'],\n",
              "       ['2020-03-10', '278', '284.5', '256', '264', '35700'],\n",
              "       ['2020-03-11', '270', '270', '238.5', '245', '60445'],\n",
              "       ['2020-03-12', '218', '228', '196', '197', '94031'],\n",
              "       ['2020-03-13', '210', '229', '198.8', '211', '100412'],\n",
              "       ['2020-03-16', '205', '248', '197.8', '240.5', '50659'],\n",
              "       ['2020-03-17', '245', '269', '232.5', '264', '99480'],\n",
              "       ['2020-03-18', '264', '280', '251', '270', '70136'],\n",
              "       ['2020-03-19', '267', '280', '267', '279.5', '30732'],\n",
              "       ['2020-03-20', '297.5', '307', '280', '280.5', '43426'],\n",
              "       ['2020-03-23', '274', '289', '258', '285', '37098'],\n",
              "       ['2020-03-24', '305', '309', '296.5', '309', '31939'],\n",
              "       ['2020-03-25', '313', '330', '295', '304', '46724'],\n",
              "       ['2020-03-26', '300', '309', '295.5', '300', '27213'],\n",
              "       ['2020-03-27', '302', '306.5', '290', '296', '13466'],\n",
              "       ['2020-03-30', '299', '300', '287', '300', '10316'],\n",
              "       ['2020-03-31', '302.5', '309', '302', '306.5', '15698']], dtype='<U10')"
            ]
          },
          "metadata": {
            "tags": []
          },
          "execution_count": 186
        }
      ]
    },
    {
      "cell_type": "markdown",
      "metadata": {
        "id": "3uGy3BAVnWIe",
        "colab_type": "text"
      },
      "source": [
        "Usuń kolumnę o nazwie 'Data'. Do zmiennej _playway_values_ przypisz tylko warotści kolumn bez nagłówków. Skonwertuj tak otrzymaną tablicę na typ danych _float_.\n",
        "\n",
        "__Oczekiwany wynik:__\n",
        "\n",
        "\n",
        "\n",
        "```\n",
        "array([[   305. ,    324.5,    283.5,    310. ,  64081. ],\n",
        "       [   325.5,    340.5,    320. ,    340.5,  55496. ],\n",
        "       [   324. ,    340.5,    315. ,    330. ,  36152. ],\n",
        "       [   344. ,    344. ,    310. ,    315. ,  35992. ],\n",
        "       [   306.5,    307. ,    291. ,    305. ,  32539. ],\n",
        "       [   274. ,    291. ,    250. ,    258. ,  79402. ],\n",
        "       [   278. ,    284.5,    256. ,    264. ,  35700. ],\n",
        "       [   270. ,    270. ,    238.5,    245. ,  60445. ],\n",
        "       [   218. ,    228. ,    196. ,    197. ,  94031. ],\n",
        "       [   210. ,    229. ,    198.8,    211. , 100412. ],\n",
        "       [   205. ,    248. ,    197.8,    240.5,  50659. ],\n",
        "       [   245. ,    269. ,    232.5,    264. ,  99480. ],\n",
        "       [   264. ,    280. ,    251. ,    270. ,  70136. ],\n",
        "       [   267. ,    280. ,    267. ,    279.5,  30732. ],\n",
        "       [   297.5,    307. ,    280. ,    280.5,  43426. ],\n",
        "       [   274. ,    289. ,    258. ,    285. ,  37098. ],\n",
        "       [   305. ,    309. ,    296.5,    309. ,  31939. ],\n",
        "       [   313. ,    330. ,    295. ,    304. ,  46724. ],\n",
        "       [   300. ,    309. ,    295.5,    300. ,  27213. ],\n",
        "       [   302. ,    306.5,    290. ,    296. ,  13466. ],\n",
        "       [   299. ,    300. ,    287. ,    300. ,  10316. ],\n",
        "       [   302.5,    309. ,    302. ,    306.5,  15698. ]])\n",
        "```\n",
        "\n"
      ]
    },
    {
      "cell_type": "code",
      "metadata": {
        "id": "h2CM34hNl8Or",
        "colab_type": "code",
        "colab": {
          "base_uri": "https://localhost:8080/",
          "height": 391
        },
        "outputId": "b236d321-c122-4db9-e140-27b11d8e0d39"
      },
      "source": [
        "playway = np.delete(lines, [0], axis=1)\n",
        "playway_values = playway[1:].astype(float)\n",
        "playway_values"
      ],
      "execution_count": 187,
      "outputs": [
        {
          "output_type": "execute_result",
          "data": {
            "text/plain": [
              "array([[   305. ,    324.5,    283.5,    310. ,  64081. ],\n",
              "       [   325.5,    340.5,    320. ,    340.5,  55496. ],\n",
              "       [   324. ,    340.5,    315. ,    330. ,  36152. ],\n",
              "       [   344. ,    344. ,    310. ,    315. ,  35992. ],\n",
              "       [   306.5,    307. ,    291. ,    305. ,  32539. ],\n",
              "       [   274. ,    291. ,    250. ,    258. ,  79402. ],\n",
              "       [   278. ,    284.5,    256. ,    264. ,  35700. ],\n",
              "       [   270. ,    270. ,    238.5,    245. ,  60445. ],\n",
              "       [   218. ,    228. ,    196. ,    197. ,  94031. ],\n",
              "       [   210. ,    229. ,    198.8,    211. , 100412. ],\n",
              "       [   205. ,    248. ,    197.8,    240.5,  50659. ],\n",
              "       [   245. ,    269. ,    232.5,    264. ,  99480. ],\n",
              "       [   264. ,    280. ,    251. ,    270. ,  70136. ],\n",
              "       [   267. ,    280. ,    267. ,    279.5,  30732. ],\n",
              "       [   297.5,    307. ,    280. ,    280.5,  43426. ],\n",
              "       [   274. ,    289. ,    258. ,    285. ,  37098. ],\n",
              "       [   305. ,    309. ,    296.5,    309. ,  31939. ],\n",
              "       [   313. ,    330. ,    295. ,    304. ,  46724. ],\n",
              "       [   300. ,    309. ,    295.5,    300. ,  27213. ],\n",
              "       [   302. ,    306.5,    290. ,    296. ,  13466. ],\n",
              "       [   299. ,    300. ,    287. ,    300. ,  10316. ],\n",
              "       [   302.5,    309. ,    302. ,    306.5,  15698. ]])"
            ]
          },
          "metadata": {
            "tags": []
          },
          "execution_count": 187
        }
      ]
    },
    {
      "cell_type": "markdown",
      "metadata": {
        "id": "PunXd_Ey16so",
        "colab_type": "text"
      },
      "source": [
        "### <a name='6'></a> Ćwiczenie 96\n",
        "Dla tablicy _playway_values_ z poprzedniego ćwiczenia policz wartość średnią dla każdej kolumny. Wynik zaokrąglij do 2 miejsca po przecinku."
      ]
    },
    {
      "cell_type": "code",
      "metadata": {
        "id": "4R_zihb-mNQI",
        "colab_type": "code",
        "colab": {
          "base_uri": "https://localhost:8080/",
          "height": 34
        },
        "outputId": "2b178bc1-43fe-447b-8cce-f2984b26eafe"
      },
      "source": [
        "playway_values.mean(axis=0).round(2)"
      ],
      "execution_count": 111,
      "outputs": [
        {
          "output_type": "execute_result",
          "data": {
            "text/plain": [
              "array([  283.14,   295.25,   268.69,   282.3 , 48688.05])"
            ]
          },
          "metadata": {
            "tags": []
          },
          "execution_count": 111
        }
      ]
    },
    {
      "cell_type": "markdown",
      "metadata": {
        "id": "vYku8sDioVv0",
        "colab_type": "text"
      },
      "source": [
        "Dla tablicy _playway_values_ z poprzedniego ćwiczenia policz wartość minimalną dla każdej kolumny. Wynik zaokrąglij do 2 miejsca po przecinku."
      ]
    },
    {
      "cell_type": "code",
      "metadata": {
        "id": "6tXybjFPoYuH",
        "colab_type": "code",
        "colab": {
          "base_uri": "https://localhost:8080/",
          "height": 34
        },
        "outputId": "00434768-0101-4fa5-ccff-90d3bf235384"
      },
      "source": [
        "playway_values.min(axis=0).round(2)"
      ],
      "execution_count": 112,
      "outputs": [
        {
          "output_type": "execute_result",
          "data": {
            "text/plain": [
              "array([  205.,   228.,   196.,   197., 10316.])"
            ]
          },
          "metadata": {
            "tags": []
          },
          "execution_count": 112
        }
      ]
    },
    {
      "cell_type": "markdown",
      "metadata": {
        "id": "R8h54smpogS-",
        "colab_type": "text"
      },
      "source": [
        "Dla tablicy _playway_values_ z poprzedniego ćwiczenia policz wartość maksymalną dla każdej kolumny. Wynik zaokrąglij do 2 miejsca po przecinku."
      ]
    },
    {
      "cell_type": "code",
      "metadata": {
        "id": "fSPfLYUpoi-9",
        "colab_type": "code",
        "colab": {
          "base_uri": "https://localhost:8080/",
          "height": 34
        },
        "outputId": "ec1eef1f-53a2-428c-9bb6-cbdaf28f2434"
      },
      "source": [
        "playway_values.max(axis=0).round(2)"
      ],
      "execution_count": 113,
      "outputs": [
        {
          "output_type": "execute_result",
          "data": {
            "text/plain": [
              "array([   344. ,    344. ,    320. ,    340.5, 100412. ])"
            ]
          },
          "metadata": {
            "tags": []
          },
          "execution_count": 113
        }
      ]
    },
    {
      "cell_type": "markdown",
      "metadata": {
        "id": "kBHvcXSPoyt7",
        "colab_type": "text"
      },
      "source": [
        "Policz różnicę pomiędzy wartością maksymalną i minimalną dla każdej kolumny."
      ]
    },
    {
      "cell_type": "code",
      "metadata": {
        "id": "Gk6HsA-rotzG",
        "colab_type": "code",
        "colab": {
          "base_uri": "https://localhost:8080/",
          "height": 34
        },
        "outputId": "54995cc4-a66e-46ca-c6f6-c1b786ec5e8d"
      },
      "source": [
        "playway_values.max(axis=0).round(2) - playway_values.min(axis=0).round(2)"
      ],
      "execution_count": 114,
      "outputs": [
        {
          "output_type": "execute_result",
          "data": {
            "text/plain": [
              "array([  139. ,   116. ,   124. ,   143.5, 90096. ])"
            ]
          },
          "metadata": {
            "tags": []
          },
          "execution_count": 114
        }
      ]
    },
    {
      "cell_type": "markdown",
      "metadata": {
        "id": "hOhqDRz618Tx",
        "colab_type": "text"
      },
      "source": [
        "### <a name='7'></a> Ćwiczenie 97\n",
        "Wykorzystując tablicę _playway_values_ oblicz nową kolumnę będącą różnicą ceny najwyższej i najniższej.\n",
        "\n",
        "Kroki pomocnicze:\n",
        "1. do zmiennej _max_min_diff_ przypisz obliczoną różnicę\n",
        "2. dodaj obliczoną kolumnę (zmienna _max_min_diff_) do tablicy _playway_values_ na końcu.\n",
        "\n",
        "__Oczekiwany wynik:__\n",
        "\n",
        "\n",
        "```\n",
        "array([[   305. ,    324.5,    283.5,    310. ,  64081. ,     41. ],\n",
        "       [   325.5,    340.5,    320. ,    340.5,  55496. ,     20.5],\n",
        "       [   324. ,    340.5,    315. ,    330. ,  36152. ,     25.5],\n",
        "       [   344. ,    344. ,    310. ,    315. ,  35992. ,     34. ],\n",
        "       [   306.5,    307. ,    291. ,    305. ,  32539. ,     16. ],\n",
        "       [   274. ,    291. ,    250. ,    258. ,  79402. ,     41. ],\n",
        "       [   278. ,    284.5,    256. ,    264. ,  35700. ,     28.5],\n",
        "       [   270. ,    270. ,    238.5,    245. ,  60445. ,     31.5],\n",
        "       [   218. ,    228. ,    196. ,    197. ,  94031. ,     32. ],\n",
        "       [   210. ,    229. ,    198.8,    211. , 100412. ,     30.2],\n",
        "       [   205. ,    248. ,    197.8,    240.5,  50659. ,     50.2],\n",
        "       [   245. ,    269. ,    232.5,    264. ,  99480. ,     36.5],\n",
        "       [   264. ,    280. ,    251. ,    270. ,  70136. ,     29. ],\n",
        "       [   267. ,    280. ,    267. ,    279.5,  30732. ,     13. ],\n",
        "       [   297.5,    307. ,    280. ,    280.5,  43426. ,     27. ],\n",
        "       [   274. ,    289. ,    258. ,    285. ,  37098. ,     31. ],\n",
        "       [   305. ,    309. ,    296.5,    309. ,  31939. ,     12.5],\n",
        "       [   313. ,    330. ,    295. ,    304. ,  46724. ,     35. ],\n",
        "       [   300. ,    309. ,    295.5,    300. ,  27213. ,     13.5],\n",
        "       [   302. ,    306.5,    290. ,    296. ,  13466. ,     16.5],\n",
        "       [   299. ,    300. ,    287. ,    300. ,  10316. ,     13. ],\n",
        "       [   302.5,    309. ,    302. ,    306.5,  15698. ,      7. ]])\n",
        "```\n",
        "\n"
      ]
    },
    {
      "cell_type": "code",
      "metadata": {
        "id": "Uo-LawS_pbEx",
        "colab_type": "code",
        "colab": {
          "base_uri": "https://localhost:8080/",
          "height": 391
        },
        "outputId": "d0cbcb1b-f58b-4025-9373-20870fde2f51"
      },
      "source": [
        "max_min_diff = playway_values[:,1] - playway_values[:,2]\n",
        "max_min_diff = np.expand_dims(max_min_diff, axis=1)\n",
        "playway_values = np.append(playway_values, max_min_diff, axis=1)\n",
        "playway_values"
      ],
      "execution_count": 188,
      "outputs": [
        {
          "output_type": "execute_result",
          "data": {
            "text/plain": [
              "array([[   305. ,    324.5,    283.5,    310. ,  64081. ,     41. ],\n",
              "       [   325.5,    340.5,    320. ,    340.5,  55496. ,     20.5],\n",
              "       [   324. ,    340.5,    315. ,    330. ,  36152. ,     25.5],\n",
              "       [   344. ,    344. ,    310. ,    315. ,  35992. ,     34. ],\n",
              "       [   306.5,    307. ,    291. ,    305. ,  32539. ,     16. ],\n",
              "       [   274. ,    291. ,    250. ,    258. ,  79402. ,     41. ],\n",
              "       [   278. ,    284.5,    256. ,    264. ,  35700. ,     28.5],\n",
              "       [   270. ,    270. ,    238.5,    245. ,  60445. ,     31.5],\n",
              "       [   218. ,    228. ,    196. ,    197. ,  94031. ,     32. ],\n",
              "       [   210. ,    229. ,    198.8,    211. , 100412. ,     30.2],\n",
              "       [   205. ,    248. ,    197.8,    240.5,  50659. ,     50.2],\n",
              "       [   245. ,    269. ,    232.5,    264. ,  99480. ,     36.5],\n",
              "       [   264. ,    280. ,    251. ,    270. ,  70136. ,     29. ],\n",
              "       [   267. ,    280. ,    267. ,    279.5,  30732. ,     13. ],\n",
              "       [   297.5,    307. ,    280. ,    280.5,  43426. ,     27. ],\n",
              "       [   274. ,    289. ,    258. ,    285. ,  37098. ,     31. ],\n",
              "       [   305. ,    309. ,    296.5,    309. ,  31939. ,     12.5],\n",
              "       [   313. ,    330. ,    295. ,    304. ,  46724. ,     35. ],\n",
              "       [   300. ,    309. ,    295.5,    300. ,  27213. ,     13.5],\n",
              "       [   302. ,    306.5,    290. ,    296. ,  13466. ,     16.5],\n",
              "       [   299. ,    300. ,    287. ,    300. ,  10316. ,     13. ],\n",
              "       [   302.5,    309. ,    302. ,    306.5,  15698. ,      7. ]])"
            ]
          },
          "metadata": {
            "tags": []
          },
          "execution_count": 188
        }
      ]
    },
    {
      "cell_type": "markdown",
      "metadata": {
        "id": "TXUd_4631-gw",
        "colab_type": "text"
      },
      "source": [
        "### <a name='8'></a> Ćwiczenie 98\n",
        "Z tablicy _playway_values_ wytnij wiersze, dla których cena zamknięcia wynosi powyżej 300.00 PLN."
      ]
    },
    {
      "cell_type": "code",
      "metadata": {
        "id": "rwuMJLk1rS01",
        "colab_type": "code",
        "colab": {
          "base_uri": "https://localhost:8080/",
          "height": 153
        },
        "outputId": "f70dd86d-bce8-4ee2-d0ed-ab68aa8cb8ff"
      },
      "source": [
        "playway_values[playway_values[:,3] > 300]"
      ],
      "execution_count": 136,
      "outputs": [
        {
          "output_type": "execute_result",
          "data": {
            "text/plain": [
              "array([[  305. ,   324.5,   283.5,   310. , 64081. ,    41. ],\n",
              "       [  325.5,   340.5,   320. ,   340.5, 55496. ,    20.5],\n",
              "       [  324. ,   340.5,   315. ,   330. , 36152. ,    25.5],\n",
              "       [  344. ,   344. ,   310. ,   315. , 35992. ,    34. ],\n",
              "       [  306.5,   307. ,   291. ,   305. , 32539. ,    16. ],\n",
              "       [  305. ,   309. ,   296.5,   309. , 31939. ,    12.5],\n",
              "       [  313. ,   330. ,   295. ,   304. , 46724. ,    35. ],\n",
              "       [  302.5,   309. ,   302. ,   306.5, 15698. ,     7. ]])"
            ]
          },
          "metadata": {
            "tags": []
          },
          "execution_count": 136
        }
      ]
    },
    {
      "cell_type": "markdown",
      "metadata": {
        "id": "tgI6xEn-2AQo",
        "colab_type": "text"
      },
      "source": [
        "### <a name='9'></a> Ćwiczenie 99\n",
        "Z tablicy _playway_values_ wytnij 10 pierwszych wierszy z najwyższą wartością wolumenu posortowane malejąco."
      ]
    },
    {
      "cell_type": "code",
      "metadata": {
        "id": "BNaPPvhssbmW",
        "colab_type": "code",
        "colab": {
          "base_uri": "https://localhost:8080/",
          "height": 187
        },
        "outputId": "1758f6e2-265a-471a-fa96-35537066f411"
      },
      "source": [
        "playway_values[playway_values[:,5].argsort()[::-1]][:10]\n"
      ],
      "execution_count": 189,
      "outputs": [
        {
          "output_type": "execute_result",
          "data": {
            "text/plain": [
              "array([[   205. ,    248. ,    197.8,    240.5,  50659. ,     50.2],\n",
              "       [   274. ,    291. ,    250. ,    258. ,  79402. ,     41. ],\n",
              "       [   305. ,    324.5,    283.5,    310. ,  64081. ,     41. ],\n",
              "       [   245. ,    269. ,    232.5,    264. ,  99480. ,     36.5],\n",
              "       [   313. ,    330. ,    295. ,    304. ,  46724. ,     35. ],\n",
              "       [   344. ,    344. ,    310. ,    315. ,  35992. ,     34. ],\n",
              "       [   218. ,    228. ,    196. ,    197. ,  94031. ,     32. ],\n",
              "       [   270. ,    270. ,    238.5,    245. ,  60445. ,     31.5],\n",
              "       [   274. ,    289. ,    258. ,    285. ,  37098. ,     31. ],\n",
              "       [   210. ,    229. ,    198.8,    211. , 100412. ,     30.2]])"
            ]
          },
          "metadata": {
            "tags": []
          },
          "execution_count": 189
        }
      ]
    },
    {
      "cell_type": "markdown",
      "metadata": {
        "id": "wxhpf-uq2B1I",
        "colab_type": "text"
      },
      "source": [
        "### <a name='10'></a> Ćwiczenie 100\n",
        "Do tablicy _playway_values_ dodaj 7 kolumnę, która będzie zwracać 1 w przypadku, gdy cena zamknięcia jest wyższa niż cena otwarcia oraz 0 przeciwnie.\n",
        "\n",
        "__Oczekiwany wynik:__\n",
        "\n",
        "\n",
        "```\n",
        "array([[   305. ,    324.5,    283.5,    310. ,  64081. ,     41. ,      1. ],\n",
        "       [   325.5,    340.5,    320. ,    340.5,  55496. ,     20.5,      1. ],\n",
        "       [   324. ,    340.5,    315. ,    330. ,  36152. ,     25.5,      1. ],\n",
        "       [   344. ,    344. ,    310. ,    315. ,  35992. ,     34. ,      0. ],\n",
        "       [   306.5,    307. ,    291. ,    305. ,  32539. ,     16. ,      0. ],\n",
        "       [   274. ,    291. ,    250. ,    258. ,  79402. ,     41. ,      0. ],\n",
        "       [   278. ,    284.5,    256. ,    264. ,  35700. ,     28.5,      0. ],\n",
        "       [   270. ,    270. ,    238.5,    245. ,  60445. ,     31.5,      0. ],\n",
        "       [   218. ,    228. ,    196. ,    197. ,  94031. ,     32. ,      0. ],\n",
        "       [   210. ,    229. ,    198.8,    211. , 100412. ,     30.2,      1. ],\n",
        "       [   205. ,    248. ,    197.8,    240.5,  50659. ,     50.2,      1. ],\n",
        "       [   245. ,    269. ,    232.5,    264. ,  99480. ,     36.5,      1. ],\n",
        "       [   264. ,    280. ,    251. ,    270. ,  70136. ,     29. ,      1. ],\n",
        "       [   267. ,    280. ,    267. ,    279.5,  30732. ,     13. ,      1. ],\n",
        "       [   297.5,    307. ,    280. ,    280.5,  43426. ,     27. ,      0. ],\n",
        "       [   274. ,    289. ,    258. ,    285. ,  37098. ,     31. ,      1. ],\n",
        "       [   305. ,    309. ,    296.5,    309. ,  31939. ,     12.5,      1. ],\n",
        "       [   313. ,    330. ,    295. ,    304. ,  46724. ,     35. ,      0. ],\n",
        "       [   300. ,    309. ,    295.5,    300. ,  27213. ,     13.5,      0. ],\n",
        "       [   302. ,    306.5,    290. ,    296. ,  13466. ,     16.5,      0. ],\n",
        "       [   299. ,    300. ,    287. ,    300. ,  10316. ,     13. ,      1. ],\n",
        "       [   302.5,    309. ,    302. ,    306.5,  15698. ,      7. ,      1. ]])\n",
        "```\n",
        "\n"
      ]
    },
    {
      "cell_type": "code",
      "metadata": {
        "id": "Bg9OBn0Lt6Mu",
        "colab_type": "code",
        "colab": {
          "base_uri": "https://localhost:8080/",
          "height": 391
        },
        "outputId": "2dc08dea-f600-4f7c-dde7-fcfe4749fe95"
      },
      "source": [
        "playway_values_if = playway_values[:,[3]] > playway_values[:,[0]]\n",
        "playway_values_if = playway_values_if.astype(int)\n",
        "\n",
        "playway_values = np.concatenate((playway_values, playway_values_if), axis=1)\n",
        "playway_values"
      ],
      "execution_count": 199,
      "outputs": [
        {
          "output_type": "execute_result",
          "data": {
            "text/plain": [
              "array([[   305. ,    324.5,    283.5,    310. ,  64081. ,     41. ,      1. ],\n",
              "       [   325.5,    340.5,    320. ,    340.5,  55496. ,     20.5,      1. ],\n",
              "       [   324. ,    340.5,    315. ,    330. ,  36152. ,     25.5,      1. ],\n",
              "       [   344. ,    344. ,    310. ,    315. ,  35992. ,     34. ,      0. ],\n",
              "       [   306.5,    307. ,    291. ,    305. ,  32539. ,     16. ,      0. ],\n",
              "       [   274. ,    291. ,    250. ,    258. ,  79402. ,     41. ,      0. ],\n",
              "       [   278. ,    284.5,    256. ,    264. ,  35700. ,     28.5,      0. ],\n",
              "       [   270. ,    270. ,    238.5,    245. ,  60445. ,     31.5,      0. ],\n",
              "       [   218. ,    228. ,    196. ,    197. ,  94031. ,     32. ,      0. ],\n",
              "       [   210. ,    229. ,    198.8,    211. , 100412. ,     30.2,      1. ],\n",
              "       [   205. ,    248. ,    197.8,    240.5,  50659. ,     50.2,      1. ],\n",
              "       [   245. ,    269. ,    232.5,    264. ,  99480. ,     36.5,      1. ],\n",
              "       [   264. ,    280. ,    251. ,    270. ,  70136. ,     29. ,      1. ],\n",
              "       [   267. ,    280. ,    267. ,    279.5,  30732. ,     13. ,      1. ],\n",
              "       [   297.5,    307. ,    280. ,    280.5,  43426. ,     27. ,      0. ],\n",
              "       [   274. ,    289. ,    258. ,    285. ,  37098. ,     31. ,      1. ],\n",
              "       [   305. ,    309. ,    296.5,    309. ,  31939. ,     12.5,      1. ],\n",
              "       [   313. ,    330. ,    295. ,    304. ,  46724. ,     35. ,      0. ],\n",
              "       [   300. ,    309. ,    295.5,    300. ,  27213. ,     13.5,      0. ],\n",
              "       [   302. ,    306.5,    290. ,    296. ,  13466. ,     16.5,      0. ],\n",
              "       [   299. ,    300. ,    287. ,    300. ,  10316. ,     13. ,      1. ],\n",
              "       [   302.5,    309. ,    302. ,    306.5,  15698. ,      7. ,      1. ]])"
            ]
          },
          "metadata": {
            "tags": []
          },
          "execution_count": 199
        }
      ]
    }
  ]
}