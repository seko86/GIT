{
  "nbformat": 4,
  "nbformat_minor": 0,
  "metadata": {
    "colab": {
      "name": "071-080_exercises.ipynb",
      "provenance": [],
      "collapsed_sections": [],
      "include_colab_link": true
    },
    "kernelspec": {
      "name": "python3",
      "display_name": "Python 3"
    }
  },
  "cells": [
    {
      "cell_type": "markdown",
      "metadata": {
        "id": "view-in-github",
        "colab_type": "text"
      },
      "source": [
        "<a href=\"https://colab.research.google.com/github/seko86/GIT/blob/master/071_080_exercises.ipynb\" target=\"_parent\"><img src=\"https://colab.research.google.com/assets/colab-badge.svg\" alt=\"Open In Colab\"/></a>"
      ]
    },
    {
      "cell_type": "markdown",
      "metadata": {
        "id": "WLEgCW5F1hho",
        "colab_type": "text"
      },
      "source": [
        "## Numpy\n",
        "\n",
        "### Spis treści:\n",
        "* [Import biblioteki](#0)\n",
        "* [Ćwiczenie 71](#1)\n",
        "* [Ćwiczenie 72](#2)\n",
        "* [Ćwiczenie 73](#3)\n",
        "* [Ćwiczenie 74](#4)\n",
        "* [Ćwiczenie 75](#5)\n",
        "* [Ćwiczenie 76](#6)\n",
        "* [Ćwiczenie 77](#7)\n",
        "* [Ćwiczenie 78](#8)\n",
        "* [Ćwiczenie 79](#9)\n",
        "* [Ćwiczenie 80](#10)"
      ]
    },
    {
      "cell_type": "markdown",
      "metadata": {
        "id": "zeLOLmTj1kBM",
        "colab_type": "text"
      },
      "source": [
        "### <a name='0'></a>Import biblioteki"
      ]
    },
    {
      "cell_type": "code",
      "metadata": {
        "id": "HXMB7SMe1Wnz",
        "colab_type": "code",
        "colab": {
          "base_uri": "https://localhost:8080/",
          "height": 34
        },
        "outputId": "20b70ba7-30e2-4e4b-8ef8-48df99858b54"
      },
      "source": [
        "import numpy as np\n",
        "\n",
        "np.random.seed(42)\n",
        "np.__version__"
      ],
      "execution_count": 2,
      "outputs": [
        {
          "output_type": "execute_result",
          "data": {
            "text/plain": [
              "'1.18.5'"
            ]
          },
          "metadata": {
            "tags": []
          },
          "execution_count": 2
        }
      ]
    },
    {
      "cell_type": "markdown",
      "metadata": {
        "id": "cyc70pMe1oCg",
        "colab_type": "text"
      },
      "source": [
        "### <a name='1'></a> Ćwiczenie 71\n",
        "Podana jest poniższa tablica $A$:\n",
        "\n",
        "```\n",
        "A = np.array([['id', 'price'],\n",
        "              ['001', 14.99],\n",
        "              ['002', 4.99],\n",
        "              ['003', 7.99],\n",
        "              ['004', 2.49],\n",
        "              ['005', 1.49]])\n",
        "```\n",
        "Od drugiego wiersza tablicy $A$ przestaw losowo wiersze w tablicy.\n",
        "\n",
        "__Wskazówka:__ Użyj funkcji _np.random.shuffle()_.\n"
      ]
    },
    {
      "cell_type": "code",
      "metadata": {
        "id": "RFIhGhiJtLW5",
        "colab_type": "code",
        "colab": {
          "base_uri": "https://localhost:8080/",
          "height": 119
        },
        "outputId": "2f9b710a-139c-4a82-d24e-dc10a4bc0ad3"
      },
      "source": [
        "A = np.array([['id', 'price'],\n",
        "              ['001', 14.99],\n",
        "              ['002', 4.99],\n",
        "              ['003', 7.99],\n",
        "              ['004', 2.49],\n",
        "              ['005', 1.49]])\n",
        "\n",
        "np.random.shuffle(A[1:])\n",
        "print(A)"
      ],
      "execution_count": 6,
      "outputs": [
        {
          "output_type": "stream",
          "text": [
            "[['id' 'price']\n",
            " ['002' '4.99']\n",
            " ['001' '14.99']\n",
            " ['004' '2.49']\n",
            " ['005' '1.49']\n",
            " ['003' '7.99']]\n"
          ],
          "name": "stdout"
        }
      ]
    },
    {
      "cell_type": "markdown",
      "metadata": {
        "id": "J9pY1rtr1sC0",
        "colab_type": "text"
      },
      "source": [
        "### <a name='2'></a> Ćwiczenie 72\n",
        "Podana jest poniższa tablica $A$:\n",
        "\n",
        "```\n",
        "A = np.array([0.2, 0.15, 0.1, 0.3, 0.2, 0.05])\n",
        "```\n",
        "Zwróć tablicę indeksów, które posortują tablicę $A$ rosnąco.\n",
        "\n",
        "__Oczekiwny wynik:__\n",
        "\n",
        "\n",
        "```\n",
        "array([5, 2, 1, 0, 4, 3])\n",
        "```\n",
        "__Wskazówka:__ Użyj funkcji _np.argsort()_.\n",
        "\n"
      ]
    },
    {
      "cell_type": "code",
      "metadata": {
        "id": "JXEkxNh_wAwB",
        "colab_type": "code",
        "colab": {
          "base_uri": "https://localhost:8080/",
          "height": 34
        },
        "outputId": "6f187cf6-d6af-4cc7-c07f-8f42c181ec73"
      },
      "source": [
        "A = np.array([0.2, 0.15, 0.1, 0.3, 0.2, 0.05])\n",
        "\n",
        "np.argsort(A)"
      ],
      "execution_count": 11,
      "outputs": [
        {
          "output_type": "execute_result",
          "data": {
            "text/plain": [
              "array([5, 2, 1, 0, 4, 3])"
            ]
          },
          "metadata": {
            "tags": []
          },
          "execution_count": 11
        }
      ]
    },
    {
      "cell_type": "markdown",
      "metadata": {
        "id": "XQLYT2m11wVG",
        "colab_type": "text"
      },
      "source": [
        "### <a name='3'></a> Ćwiczenie 73\n",
        "Podana jest poniższa tablica $A$:\n",
        "\n",
        "```\n",
        "A = np.random.randn(10, 8)\n",
        "```\n",
        "\n",
        "Zaokrąglij wartości tej tablicy do trzeciego miejsca po przecinku.\n",
        "\n",
        "__Wskazówka:__ Użyj funkcji _np.round()_."
      ]
    },
    {
      "cell_type": "code",
      "metadata": {
        "id": "oh4E35mU0ikP",
        "colab_type": "code",
        "colab": {
          "base_uri": "https://localhost:8080/",
          "height": 187
        },
        "outputId": "7b94e992-7bf6-453c-b04e-fab591565958"
      },
      "source": [
        "A = np.random.randn(10, 8)\n",
        "A.round(3)"
      ],
      "execution_count": 15,
      "outputs": [
        {
          "output_type": "execute_result",
          "data": {
            "text/plain": [
              "array([[-0.772,  1.661, -0.334, -0.318,  0.318, -1.612,  0.945,  1.266],\n",
              "       [ 0.377,  1.651, -1.327,  1.844, -0.731, -1.28 , -0.237,  1.872],\n",
              "       [-0.019, -0.933, -1.295, -0.105, -1.995, -1.3  ,  1.543,  1.323],\n",
              "       [-0.128, -0.466,  0.059,  2.348,  0.405,  0.91 , -0.202,  0.061],\n",
              "       [ 0.647,  0.126, -1.897,  1.281, -0.615,  2.111,  0.687,  0.071],\n",
              "       [ 0.439, -0.108, -0.486,  0.208,  0.885, -0.465, -0.622, -0.355],\n",
              "       [ 0.952,  1.453,  0.362,  0.581, -0.63 ,  0.877,  0.552, -0.71 ],\n",
              "       [-1.788, -1.221, -0.669,  1.162,  1.553, -0.44 , -0.408,  0.262],\n",
              "       [ 0.012,  0.931, -0.523,  0.949, -0.239,  0.854, -0.271, -0.613],\n",
              "       [ 1.912,  1.065, -1.792, -0.447,  1.205, -1.197,  0.771,  0.667]])"
            ]
          },
          "metadata": {
            "tags": []
          },
          "execution_count": 15
        }
      ]
    },
    {
      "cell_type": "markdown",
      "metadata": {
        "id": "4xTKSUzg10MK",
        "colab_type": "text"
      },
      "source": [
        "### <a name='4'></a> Ćwiczenie 74\n",
        "Wyznacz pierwiastki wielomianu:\n",
        "* $W(x) = 4x^2 + 5x + 1$\n",
        "\n",
        "\n",
        "__Wskazówka:__ Użyj funkcji _np.roots()_ oraz _np.polyval()_."
      ]
    },
    {
      "cell_type": "code",
      "metadata": {
        "id": "RjwHkYO86qeM",
        "colab_type": "code",
        "colab": {
          "base_uri": "https://localhost:8080/",
          "height": 34
        },
        "outputId": "a694adf2-bb7a-4743-a19e-6fb987f5aa87"
      },
      "source": [
        "np.roots([4,5,1])"
      ],
      "execution_count": 20,
      "outputs": [
        {
          "output_type": "execute_result",
          "data": {
            "text/plain": [
              "array([-1.  , -0.25])"
            ]
          },
          "metadata": {
            "tags": []
          },
          "execution_count": 20
        }
      ]
    },
    {
      "cell_type": "markdown",
      "metadata": {
        "id": "YDKyTjl59GcT",
        "colab_type": "text"
      },
      "source": [
        "Dokonaj sprawdzenia."
      ]
    },
    {
      "cell_type": "code",
      "metadata": {
        "id": "8ryP41w78rvf",
        "colab_type": "code",
        "colab": {
          "base_uri": "https://localhost:8080/",
          "height": 34
        },
        "outputId": "e6b51405-7b5c-4e6e-9596-ffcb7a3974dd"
      },
      "source": [
        "np.polyval([4,5,1], -1)\n",
        "np.polyval([4,5,1], -0.25)"
      ],
      "execution_count": 22,
      "outputs": [
        {
          "output_type": "execute_result",
          "data": {
            "text/plain": [
              "0.0"
            ]
          },
          "metadata": {
            "tags": []
          },
          "execution_count": 22
        }
      ]
    },
    {
      "cell_type": "markdown",
      "metadata": {
        "id": "o3HKIKlP15Ro",
        "colab_type": "text"
      },
      "source": [
        "### <a name='5'></a> Ćwiczenie 75\n",
        "Wyznacz pierwiastki wielomianów:\n",
        "* $Q(x) = 2x^3 + 4x^2 -5x + 1$\n",
        "* $R(x) = 2x^3 -5x + 1$\n",
        "\n",
        "__Wskazówka:__ Użyj funkcji _np.roots()_."
      ]
    },
    {
      "cell_type": "code",
      "metadata": {
        "id": "Kxjx96O57wTY",
        "colab_type": "code",
        "colab": {
          "base_uri": "https://localhost:8080/",
          "height": 34
        },
        "outputId": "b19b78f3-4d3e-4cde-b3e9-c70d018c0bb8"
      },
      "source": [
        "np.roots([2,4,-5,1])"
      ],
      "execution_count": 23,
      "outputs": [
        {
          "output_type": "execute_result",
          "data": {
            "text/plain": [
              "array([-2.91610583,  0.65388685,  0.26221898])"
            ]
          },
          "metadata": {
            "tags": []
          },
          "execution_count": 23
        }
      ]
    },
    {
      "cell_type": "code",
      "metadata": {
        "id": "nh4R2OKvM1ja",
        "colab_type": "code",
        "colab": {
          "base_uri": "https://localhost:8080/",
          "height": 34
        },
        "outputId": "bfab6f4d-49d4-4c00-e946-dbefe1c476cc"
      },
      "source": [
        "np.roots([2,0,-5,1])"
      ],
      "execution_count": 25,
      "outputs": [
        {
          "output_type": "execute_result",
          "data": {
            "text/plain": [
              "array([-1.67298165,  1.46961743,  0.20336421])"
            ]
          },
          "metadata": {
            "tags": []
          },
          "execution_count": 25
        }
      ]
    },
    {
      "cell_type": "markdown",
      "metadata": {
        "id": "PunXd_Ey16so",
        "colab_type": "text"
      },
      "source": [
        "### <a name='6'></a> Ćwiczenie 76\n",
        "Podane są wielomiany:\n",
        "\n",
        "* $W(x) = 4x^2 + 5x + 1$\n",
        "* $Q(x) = 2x^3 + 4x^2 -5x + 1$\n"
      ]
    },
    {
      "cell_type": "code",
      "metadata": {
        "id": "D-XbUU9Nln5y",
        "colab_type": "code",
        "colab": {}
      },
      "source": [
        "W = np.array([4, 5, 1])\n",
        "Q = np.array([2, 4, -5, 1])"
      ],
      "execution_count": null,
      "outputs": []
    },
    {
      "cell_type": "markdown",
      "metadata": {
        "id": "vYiT4ikklqaQ",
        "colab_type": "text"
      },
      "source": [
        "Wykonaj działania:\n",
        "* $W(x) + Q(x)$"
      ]
    },
    {
      "cell_type": "code",
      "metadata": {
        "id": "9JKvun7C9raH",
        "colab_type": "code",
        "colab": {
          "base_uri": "https://localhost:8080/",
          "height": 34
        },
        "outputId": "6fea3598-7d8b-4a44-bd80-2f9c3132f9b9"
      },
      "source": [
        "W = np.array([4, 5, 1])\n",
        "Q = np.array([2, 4, -5, 1])\n",
        "\n",
        "np.polyadd(W,Q)"
      ],
      "execution_count": 28,
      "outputs": [
        {
          "output_type": "execute_result",
          "data": {
            "text/plain": [
              "array([2, 8, 0, 2])"
            ]
          },
          "metadata": {
            "tags": []
          },
          "execution_count": 28
        }
      ]
    },
    {
      "cell_type": "markdown",
      "metadata": {
        "id": "f6qXMj30lhrn",
        "colab_type": "text"
      },
      "source": [
        "* $W(x) - Q(x)$\n"
      ]
    },
    {
      "cell_type": "code",
      "metadata": {
        "id": "HFlLC37f94Lr",
        "colab_type": "code",
        "colab": {
          "base_uri": "https://localhost:8080/",
          "height": 34
        },
        "outputId": "ecfdf4aa-3e1b-4684-d779-6fc02f866b66"
      },
      "source": [
        "np.polysub(W,Q)"
      ],
      "execution_count": 29,
      "outputs": [
        {
          "output_type": "execute_result",
          "data": {
            "text/plain": [
              "array([-2,  0, 10,  0])"
            ]
          },
          "metadata": {
            "tags": []
          },
          "execution_count": 29
        }
      ]
    },
    {
      "cell_type": "markdown",
      "metadata": {
        "id": "o8xnmuwfljHU",
        "colab_type": "text"
      },
      "source": [
        "* $W(x) * Q(x)$\n"
      ]
    },
    {
      "cell_type": "code",
      "metadata": {
        "id": "Z4B28oMe-p8J",
        "colab_type": "code",
        "colab": {
          "base_uri": "https://localhost:8080/",
          "height": 34
        },
        "outputId": "f7c1e6cf-2c11-482c-88da-c3d65705a091"
      },
      "source": [
        "np.polymul(W,Q)"
      ],
      "execution_count": 30,
      "outputs": [
        {
          "output_type": "execute_result",
          "data": {
            "text/plain": [
              "array([  8,  26,   2, -17,   0,   1])"
            ]
          },
          "metadata": {
            "tags": []
          },
          "execution_count": 30
        }
      ]
    },
    {
      "cell_type": "markdown",
      "metadata": {
        "id": "BIHBf0PllkXe",
        "colab_type": "text"
      },
      "source": [
        "* $W(x) + 2Q(x)$"
      ]
    },
    {
      "cell_type": "code",
      "metadata": {
        "id": "UbaoDx6E-90V",
        "colab_type": "code",
        "colab": {
          "base_uri": "https://localhost:8080/",
          "height": 34
        },
        "outputId": "0a4619f6-3490-4866-902b-4b3744016443"
      },
      "source": [
        "np.polyadd(W,2*Q)"
      ],
      "execution_count": 32,
      "outputs": [
        {
          "output_type": "execute_result",
          "data": {
            "text/plain": [
              "array([ 4, 12, -5,  3])"
            ]
          },
          "metadata": {
            "tags": []
          },
          "execution_count": 32
        }
      ]
    },
    {
      "cell_type": "markdown",
      "metadata": {
        "id": "hOhqDRz618Tx",
        "colab_type": "text"
      },
      "source": [
        "### <a name='7'></a> Ćwiczenie 77\n",
        "Podana jest poniższa tablica:\n",
        "\n",
        "```\n",
        "A = np.array([[-4, 3, 0, 1, -5],\n",
        "              [6, -4, -2, 1, 3]])\n",
        "```\n",
        "\n",
        "Użyj funkcji znaku (_sign function_) dla tablicy $A$. Dla przypomnienia funkcja działa nastpująco: dla wartości ujemnych zwraca -1, dla zera wartość zero, dla wartości dodatnich 1.\n",
        "\n",
        "__Oczekiwany wynik:__\n",
        "\n",
        "\n",
        "```\n",
        "array([[-1,  1,  0,  1, -1],\n",
        "       [ 1, -1, -1,  1,  1]])\n",
        "```\n",
        "__Wskazówka:__ Użyj funkcji _np.sign()_.\n"
      ]
    },
    {
      "cell_type": "code",
      "metadata": {
        "id": "bo-L_-_1AF0o",
        "colab_type": "code",
        "colab": {
          "base_uri": "https://localhost:8080/",
          "height": 51
        },
        "outputId": "419ed36d-9dca-4077-acdf-271308d17c99"
      },
      "source": [
        "A = np.array([[-4, 3, 0, 1, -5],\n",
        "              [6, -4, -2, 1, 3]])\n",
        "\n",
        "np.sign(A)"
      ],
      "execution_count": 33,
      "outputs": [
        {
          "output_type": "execute_result",
          "data": {
            "text/plain": [
              "array([[-1,  1,  0,  1, -1],\n",
              "       [ 1, -1, -1,  1,  1]])"
            ]
          },
          "metadata": {
            "tags": []
          },
          "execution_count": 33
        }
      ]
    },
    {
      "cell_type": "markdown",
      "metadata": {
        "id": "TXUd_4631-gw",
        "colab_type": "text"
      },
      "source": [
        "### <a name='8'></a> Ćwiczenie 78\n",
        "Wykorzystując funkcję _np.arange()_ wygeneruj poniższą tablicę:\n",
        "\n",
        "\n",
        "```\n",
        "array(['2021-01-01', '2021-01-02', '2021-01-03', '2021-01-04',\n",
        "       '2021-01-05', '2021-01-06', '2021-01-07', '2021-01-08',\n",
        "       '2021-01-09', '2021-01-10', '2021-01-11', '2021-01-12',\n",
        "       '2021-01-13', '2021-01-14', '2021-01-15', '2021-01-16',\n",
        "       '2021-01-17', '2021-01-18', '2021-01-19', '2021-01-20',\n",
        "       '2021-01-21', '2021-01-22', '2021-01-23', '2021-01-24',\n",
        "       '2021-01-25', '2021-01-26', '2021-01-27', '2021-01-28',\n",
        "       '2021-01-29', '2021-01-30', '2021-01-31'], dtype='datetime64[D]')\n",
        "```\n",
        "\n"
      ]
    },
    {
      "cell_type": "code",
      "metadata": {
        "id": "oAdYOzbJDFmv",
        "colab_type": "code",
        "colab": {
          "base_uri": "https://localhost:8080/",
          "height": 153
        },
        "outputId": "711ce3b3-79de-454b-e190-0df5afc1198d"
      },
      "source": [
        "np.arange(np.datetime64('2021-01-01'), np.datetime64('2021-02-01'))"
      ],
      "execution_count": 38,
      "outputs": [
        {
          "output_type": "execute_result",
          "data": {
            "text/plain": [
              "array(['2021-01-01', '2021-01-02', '2021-01-03', '2021-01-04',\n",
              "       '2021-01-05', '2021-01-06', '2021-01-07', '2021-01-08',\n",
              "       '2021-01-09', '2021-01-10', '2021-01-11', '2021-01-12',\n",
              "       '2021-01-13', '2021-01-14', '2021-01-15', '2021-01-16',\n",
              "       '2021-01-17', '2021-01-18', '2021-01-19', '2021-01-20',\n",
              "       '2021-01-21', '2021-01-22', '2021-01-23', '2021-01-24',\n",
              "       '2021-01-25', '2021-01-26', '2021-01-27', '2021-01-28',\n",
              "       '2021-01-29', '2021-01-30', '2021-01-31'], dtype='datetime64[D]')"
            ]
          },
          "metadata": {
            "tags": []
          },
          "execution_count": 38
        }
      ]
    },
    {
      "cell_type": "markdown",
      "metadata": {
        "id": "tgI6xEn-2AQo",
        "colab_type": "text"
      },
      "source": [
        "\n",
        "### <a name='9'></a> Ćwiczenie 79\n",
        "\n",
        "Wykorzystując funkcję _np.arange()_ wygeneruj poniższą tablicę:\n",
        "\n",
        "\n",
        "\n",
        "```\n",
        "array([['2021-01', '2021-02', '2021-03'],\n",
        "       ['2021-04', '2021-05', '2021-06'],\n",
        "       ['2021-07', '2021-08', '2021-09'],\n",
        "       ['2021-10', '2021-11', '2021-12']], dtype='datetime64[M]')\n",
        "```\n",
        "\n"
      ]
    },
    {
      "cell_type": "code",
      "metadata": {
        "id": "oJRlRIThDehG",
        "colab_type": "code",
        "colab": {
          "base_uri": "https://localhost:8080/",
          "height": 68
        },
        "outputId": "a8b22971-0ce8-4a9c-c087-34e84beb4412"
      },
      "source": [
        "np.arange(np.datetime64('2021-01'), np.datetime64('2022-01'))"
      ],
      "execution_count": 37,
      "outputs": [
        {
          "output_type": "execute_result",
          "data": {
            "text/plain": [
              "array(['2021-01', '2021-02', '2021-03', '2021-04', '2021-05', '2021-06',\n",
              "       '2021-07', '2021-08', '2021-09', '2021-10', '2021-11', '2021-12'],\n",
              "      dtype='datetime64[M]')"
            ]
          },
          "metadata": {
            "tags": []
          },
          "execution_count": 37
        }
      ]
    },
    {
      "cell_type": "markdown",
      "metadata": {
        "id": "wxhpf-uq2B1I",
        "colab_type": "text"
      },
      "source": [
        "### <a name='10'></a> Ćwiczenie 80\n",
        "\n",
        "Wykorzystując funkcję _np.datetime64()_ wygeneruj dzisiejszą datę (datę w chwili robienia ćwiczenia)."
      ]
    },
    {
      "cell_type": "code",
      "metadata": {
        "id": "YFc0KW6URsuc",
        "colab_type": "code",
        "colab": {
          "base_uri": "https://localhost:8080/",
          "height": 34
        },
        "outputId": "8b9294dc-13e4-4eb7-86f4-fa908f031512"
      },
      "source": [
        "np.datetime64('today')"
      ],
      "execution_count": 44,
      "outputs": [
        {
          "output_type": "execute_result",
          "data": {
            "text/plain": [
              "numpy.datetime64('2020-06-16')"
            ]
          },
          "metadata": {
            "tags": []
          },
          "execution_count": 44
        }
      ]
    }
  ]
}